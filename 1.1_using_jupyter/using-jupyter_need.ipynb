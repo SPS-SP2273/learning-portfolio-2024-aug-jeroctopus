{
 "cells": [
  {
   "cell_type": "markdown",
   "id": "e357129e-682a-4bfd-8b3c-de31aadecb87",
   "metadata": {},
   "source": [
    "The ships hung in the sky in much the same way that bricks don’t.\n"
   ]
  },
  {
   "cell_type": "markdown",
   "id": "6d4054e1-5c50-47f7-88de-5b117cc643ab",
   "metadata": {},
   "source": []
  },
  {
   "cell_type": "markdown",
   "id": "5d6e73f4-3886-4595-838b-2016e952208b",
   "metadata": {},
   "source": [
    "**hi world**"
   ]
  },
  {
   "cell_type": "markdown",
   "id": "2326def0-3537-4e05-9dba-affcba2e8236",
   "metadata": {},
   "source": [
    "* byebye *"
   ]
  },
  {
   "cell_type": "markdown",
   "id": "60ca1c35-f628-4205-b702-9557cd90249d",
   "metadata": {},
   "source": [
    "* *byebye* *"
   ]
  },
  {
   "cell_type": "markdown",
   "id": "cf9670d9-d431-4a42-b8ae-831da87d314a",
   "metadata": {},
   "source": [
    "*bydeby*"
   ]
  },
  {
   "cell_type": "markdown",
   "id": "115e1c0f-50c3-41d3-90f2-9a7229019e05",
   "metadata": {},
   "source": [
    "the ships *hung in the sky* in much the same way that **bricks don't.**<sup>1</sup><sub>QUOTE</sub>"
   ]
  },
  {
   "cell_type": "markdown",
   "id": "d9a19a1b-341e-4b2d-94fe-ab8dee48ec31",
   "metadata": {},
   "source": [
    "~print('Hello World')~"
   ]
  },
  {
   "cell_type": "markdown",
   "id": "6b50fbb0-19ce-4095-ba7d-4bbaee780911",
   "metadata": {},
   "source": [
    "`print('Hello People')`"
   ]
  },
  {
   "cell_type": "markdown",
   "id": "ee931701-67ec-48ce-bf1b-1d8035059aba",
   "metadata": {},
   "source": [
    "the dog runs away from the cat `print('Hello WOrld')`"
   ]
  },
  {
   "cell_type": "markdown",
   "id": "75c91127-b8e4-4a48-85d7-7bd89b824411",
   "metadata": {},
   "source": [
    "```python print('Hello People')```"
   ]
  },
  {
   "cell_type": "markdown",
   "id": "b9067bcc-7149-445b-83e0-6d425ec8ff5a",
   "metadata": {},
   "source": [
    "```python\n",
    "print('Hello ppl')\n",
    "```"
   ]
  },
  {
   "cell_type": "markdown",
   "id": "0662d2fc-5037-4b5a-8efa-0ba5f2368ce4",
   "metadata": {},
   "source": [
    "[SPS2273 Website](https://sps.nus.edu.sg/sp2273/docs/python_basics/01_using_jupyter/1_using-jupyter_need.html)"
   ]
  },
  {
   "cell_type": "markdown",
   "id": "b0fbb2d5-39b1-4e19-add8-43926f758e5d",
   "metadata": {},
   "source": [
    "1. john\n",
    "2. peter\n",
    "3. fam"
   ]
  },
  {
   "cell_type": "markdown",
   "id": "47798435-e22e-4651-9f6d-c9610731c1b3",
   "metadata": {},
   "source": [
    "1. Peter\n",
    "   - is kind\n",
    "   - is rich\n",
    "2. John\n",
    "   - is poor\n",
    "   - is good"
   ]
  },
  {
   "cell_type": "markdown",
   "id": "d6c525e8-5d90-4ea6-a5e0-1bb61fcc5461",
   "metadata": {},
   "source": [
    "$$\n",
    "x=a^2+2ab+c=65\n",
    "$$"
   ]
  },
  {
   "cell_type": "markdown",
   "id": "1e08a43f-84f1-4ed7-8f7b-60e140373600",
   "metadata": {},
   "source": []
  }
 ],
 "metadata": {
  "kernelspec": {
   "display_name": "Python 3 (ipykernel)",
   "language": "python",
   "name": "python3"
  },
  "language_info": {
   "codemirror_mode": {
    "name": "ipython",
    "version": 3
   },
   "file_extension": ".py",
   "mimetype": "text/x-python",
   "name": "python",
   "nbconvert_exporter": "python",
   "pygments_lexer": "ipython3",
   "version": "3.12.3"
  }
 },
 "nbformat": 4,
 "nbformat_minor": 5
}
