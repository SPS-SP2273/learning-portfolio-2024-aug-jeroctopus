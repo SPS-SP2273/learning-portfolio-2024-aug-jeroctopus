{
 "cells": [
  {
   "attachments": {},
   "cell_type": "markdown",
   "id": "123456",
   "metadata": {},
   "source": [
    "<div style=\"text-align:left;font-size:2em\"><span style=\"font-weight:bolder;font-size:1.25em\">SP2273 | Learning Portfolio</span><br><br><span style=\"font-weight:bold;color:darkred\">Using Jupyter (Need), Exercises</span></div>"
   ]
  },
  {
   "attachments": {},
   "cell_type": "markdown",
   "id": "6b82bb18",
   "metadata": {},
   "source": [
    "## 1 Quadratic Equations"
   ]
  },
  {
   "attachments": {},
   "cell_type": "markdown",
   "id": "f681b718",
   "metadata": {},
   "source": [
    "### Introduction"
   ]
  },
  {
   "cell_type": "markdown",
   "id": "f45b1f39-2bff-4530-bfe4-5a6eb09c0594",
   "metadata": {},
   "source": [
    "# 1. Quadratic Equations\n",
    "## Introduction\n",
    "![](https://upload.wikimedia.org/wikipedia/commons/thumb/f/f8/Polynomialdeg2.svg/450px-Polynomialdeg2.svg.png)\n",
    "\n",
    "The general form of a quadratic equation is:\n",
    "\n",
    "$$\n",
    "ax^2+bx+c=0\n",
    "$$\n"
   ]
  },
  {
   "attachments": {},
   "cell_type": "markdown",
   "id": "a3df315f",
   "metadata": {},
   "source": [
    "### Solutions"
   ]
  },
  {
   "cell_type": "markdown",
   "id": "4ea5995f-d1ec-4676-a7be-74d6482ff476",
   "metadata": {},
   "source": [
    "# Solutions\n",
    "\n",
    "Provided $a \\ne 0$, we can use an elementary algebraic method called [completeting the square](https://en.wikipedia.org/wiki/Completing_the_square) to show that a quadratic equation has the following solution:\n",
    "\n",
    "$$\n",
    "x=\\dfrac{-b \\pm \\sqrt{b^2-4ac}}{2a}\n",
    "$$\n"
   ]
  },
  {
   "attachments": {},
   "cell_type": "markdown",
   "id": "f424525c",
   "metadata": {},
   "source": [
    "### Discriminant"
   ]
  },
  {
   "cell_type": "markdown",
   "id": "e565178b-5097-4d86-8dd1-26d0acee6075",
   "metadata": {},
   "source": [
    "#Discriminant\n",
    "\n",
    "The quantity $\\triangle = b^2-4ac$ is called the **discrimninant** of the equation and decides the nature of its solutions.  The table below shows the various possibilities.\n",
    "\n",
    "|Discriminant|Roots|\n",
    "|:---|---:|\n",
    "|$\\triangle=b^2-4ac=0$|a single solution of|*-b/(2a)*|\n",
    "|$\\triangle=b^2-4ac \\gt 0$|two distinct solutions|\n",
    "|$\\triangle=b^2-4ac \\lt 0$|no real solutions;both are complex|"
   ]
  },
  {
   "cell_type": "markdown",
   "id": "e9ea1ad3-1b1d-4267-81cf-a4b7ccdfb255",
   "metadata": {},
   "source": [
    "# Exercise 2 (In Your Own Words)\n",
    "\n",
    "1. What is a Git **repository**\n",
    "   - I would say its like a save hub"
   ]
  },
  {
   "cell_type": "code",
   "execution_count": null,
   "id": "2a70ffe0-d1d8-48cc-a039-07d6b51e4f5e",
   "metadata": {},
   "outputs": [],
   "source": []
  }
 ],
 "metadata": {
  "kernelspec": {
   "display_name": "Python 3 (ipykernel)",
   "language": "python",
   "name": "python3"
  },
  "language_info": {
   "codemirror_mode": {
    "name": "ipython",
    "version": 3
   },
   "file_extension": ".py",
   "mimetype": "text/x-python",
   "name": "python",
   "nbconvert_exporter": "python",
   "pygments_lexer": "ipython3",
   "version": "3.12.3"
  },
  "toc": {
   "base_numbering": 1,
   "nav_menu": {},
   "number_sections": true,
   "sideBar": true,
   "skip_h1_title": false,
   "title_cell": "Table of Contents",
   "title_sidebar": "Contents",
   "toc_cell": false,
   "toc_position": {},
   "toc_section_display": true,
   "toc_window_display": false
  },
  "vscode": {
   "interpreter": {
    "hash": "31f2aee4e71d21fbe5cf8b01ff0e069b9275f58929596ceb00d14d90e3e16cd6"
   }
  }
 },
 "nbformat": 4,
 "nbformat_minor": 5
}
