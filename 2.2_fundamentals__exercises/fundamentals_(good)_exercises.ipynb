{
 "cells": [
  {
   "attachments": {},
   "cell_type": "markdown",
   "id": "123456",
   "metadata": {},
   "source": [
    "<div style=\"text-align:left;font-size:2em\"><span style=\"font-weight:bolder;font-size:1.25em\">SP2273 | Learning Portfolio</span><br><br><span style=\"font-weight:bold;color:darkred\">Fundamentals (Good) Exercises</span></div>"
   ]
  },
  {
   "cell_type": "markdown",
   "id": "1390e6c8-402a-4688-bf6f-54a7903a5aa8",
   "metadata": {},
   "source": [
    "## Exercise 1\n",
    "### Task 1"
   ]
  },
  {
   "cell_type": "code",
   "execution_count": 11,
   "id": "63aa918c-4484-4d35-89c1-852bbd73feba",
   "metadata": {},
   "outputs": [
    {
     "name": "stdin",
     "output_type": "stream",
     "text": [
      "What is your name? Laura\n"
     ]
    },
    {
     "name": "stdout",
     "output_type": "stream",
     "text": [
      "'How you doin', \u001b[1mLAURA!\u001b[0m\n"
     ]
    }
   ],
   "source": [
    "user_input = input('What is your name?')\n",
    "print(f\"'How you doin', \\033[1m{user_input.upper()}!\\033[0m\")"
   ]
  },
  {
   "cell_type": "markdown",
   "id": "f45acbb1-28d5-43ae-ab2d-4c482af9fff8",
   "metadata": {},
   "source": [
    "### Task 2"
   ]
  },
  {
   "cell_type": "code",
   "execution_count": 9,
   "id": "753c08a9-fe5f-4848-8689-d53d964c9369",
   "metadata": {},
   "outputs": [
    {
     "name": "stdin",
     "output_type": "stream",
     "text": [
      "What is your name? Laura\n",
      "What is your age? 21\n"
     ]
    },
    {
     "name": "stdout",
     "output_type": "stream",
     "text": [
      "'My name is \u001b[1mLAURA!\u001b[0m and I am \u001b[1m21\u001b[0m years old!\n"
     ]
    }
   ],
   "source": [
    "user_input1 = input('What is your name?')\n",
    "user_input2 = input('What is your age?')\n",
    "print(f\"'My name is \\033[1m{user_input1.upper()}!\\033[0m and I am \\033[1m{user_input2}\\033[0m years old!\")\n"
   ]
  },
  {
   "cell_type": "markdown",
   "id": "cc732a78-5648-499f-aa7a-34bd56e54765",
   "metadata": {},
   "source": [
    "### Task 3"
   ]
  },
  {
   "cell_type": "code",
   "execution_count": 14,
   "id": "b2781d49-dae0-4c5a-a309-febf6f7d0dd9",
   "metadata": {},
   "outputs": [],
   "source": [
    "pi = 3.141592653589793"
   ]
  },
  {
   "cell_type": "code",
   "execution_count": 22,
   "id": "3b03aedb-1b20-4bf2-9a4a-7e9ab5a526d9",
   "metadata": {},
   "outputs": [
    {
     "name": "stdout",
     "output_type": "stream",
     "text": [
      "3.14\n"
     ]
    }
   ],
   "source": [
    "print(f\"{pi:.2f}\")  #remember to add both : and . before the number of decimal places you want, \" goes outside the }"
   ]
  },
  {
   "cell_type": "code",
   "execution_count": 23,
   "id": "74e49ddc-ea9a-49e8-a60e-149177f2a832",
   "metadata": {},
   "outputs": [
    {
     "name": "stdout",
     "output_type": "stream",
     "text": [
      "3.142\n"
     ]
    }
   ],
   "source": [
    "print(f\"{pi:.3f}\")"
   ]
  },
  {
   "cell_type": "code",
   "execution_count": 24,
   "id": "b5cafe06-8bde-4248-b442-85156902032a",
   "metadata": {},
   "outputs": [
    {
     "name": "stdout",
     "output_type": "stream",
     "text": [
      "3.1416\n"
     ]
    }
   ],
   "source": [
    "print(f\"{pi:.4f}\")"
   ]
  },
  {
   "cell_type": "markdown",
   "id": "3c85fbe1-7f5e-42f8-bc83-3684325bd6c4",
   "metadata": {},
   "source": [
    "### Task 4"
   ]
  },
  {
   "cell_type": "markdown",
   "id": "25e68596-aee5-42ed-9d42-07e64c263d1c",
   "metadata": {},
   "source": []
  },
  {
   "cell_type": "code",
   "execution_count": 19,
   "id": "f2eaf4d9-4752-4d26-8a37-cec72392ce22",
   "metadata": {},
   "outputs": [
    {
     "name": "stdout",
     "output_type": "stream",
     "text": [
      "Apple     $0.99\n",
      "Banana    $0.59\n",
      "Orange    $1.29\n"
     ]
    }
   ],
   "source": [
    "text1='Apple'\n",
    "text2='$0.99'\n",
    "text3='Banana'\n",
    "text4='$0.59'\n",
    "text5='Orange'\n",
    "text6='$1.29'\n",
    "print (f'{text1}{text2:>10}\\n{text3}{text4:>9}\\n{text5}{text6:>9}')"
   ]
  },
  {
   "cell_type": "markdown",
   "id": "edf95047-9ca0-4685-9a81-31c6c91723de",
   "metadata": {},
   "source": [
    "## Exercise 2"
   ]
  },
  {
   "cell_type": "code",
   "execution_count": 76,
   "id": "150b28dd-a779-4912-8821-981fda969007",
   "metadata": {},
   "outputs": [
    {
     "name": "stdin",
     "output_type": "stream",
     "text": [
      "Enter the student's score. 85\n"
     ]
    },
    {
     "name": "stdout",
     "output_type": "stream",
     "text": [
      "The student's score is: A\n",
      "The student's score is: D\n"
     ]
    }
   ],
   "source": [
    "user_input1 = int(input(\"Enter the student's score.\"))\n",
    "if 70<=user_input1<=100:\n",
    "    print(\"The student's score is: A\")\n",
    "elif 50<=user_input1<=69:\n",
    "    print(\"The student's score is: B\")\n",
    "elif 35<=user_input1<=49:\n",
    "    print(\"The student's score is: C\")\n",
    "else: 0<=user_input1<=34\n",
    "print(\"The student's score is: D\")"
   ]
  },
  {
   "cell_type": "markdown",
   "id": "b595ac8d-f2a5-4336-8214-cdf5c1fa6f34",
   "metadata": {},
   "source": [
    "## Exercise 3"
   ]
  },
  {
   "cell_type": "code",
   "execution_count": 6,
   "id": "e29fa235-abab-4761-87d2-54613480ca6f",
   "metadata": {},
   "outputs": [],
   "source": [
    "\n",
    "def factorial(n):\n",
    "    #n=input('Enter your number')\n",
    "    if n < 0:\n",
    "        return \"Invalid input\"\n",
    "    elif n==0:\n",
    "        return 1\n",
    "    else:\n",
    "        result==1\n",
    "        for number in range(1, n+1):\n",
    "            result == number\n",
    "        return result"
   ]
  },
  {
   "cell_type": "code",
   "execution_count": 7,
   "id": "8f5ed36f-00b8-48d3-bbf2-b914370c4049",
   "metadata": {},
   "outputs": [
    {
     "ename": "NameError",
     "evalue": "name 'result' is not defined",
     "output_type": "error",
     "traceback": [
      "\u001b[1;31m---------------------------------------------------------------------------\u001b[0m",
      "\u001b[1;31mNameError\u001b[0m                                 Traceback (most recent call last)",
      "Cell \u001b[1;32mIn[7], line 1\u001b[0m\n\u001b[1;32m----> 1\u001b[0m \u001b[38;5;28mprint\u001b[39m(\u001b[43mfactorial\u001b[49m\u001b[43m(\u001b[49m\u001b[38;5;241;43m5\u001b[39;49m\u001b[43m)\u001b[49m)\n",
      "Cell \u001b[1;32mIn[6], line 8\u001b[0m, in \u001b[0;36mfactorial\u001b[1;34m(n)\u001b[0m\n\u001b[0;32m      6\u001b[0m     \u001b[38;5;28;01mreturn\u001b[39;00m \u001b[38;5;241m1\u001b[39m\n\u001b[0;32m      7\u001b[0m \u001b[38;5;28;01melse\u001b[39;00m:\n\u001b[1;32m----> 8\u001b[0m     \u001b[43mresult\u001b[49m\u001b[38;5;241m==\u001b[39m\u001b[38;5;241m1\u001b[39m\n\u001b[0;32m      9\u001b[0m     \u001b[38;5;28;01mfor\u001b[39;00m number \u001b[38;5;129;01min\u001b[39;00m \u001b[38;5;28mrange\u001b[39m(\u001b[38;5;241m1\u001b[39m, n\u001b[38;5;241m+\u001b[39m\u001b[38;5;241m1\u001b[39m):\n\u001b[0;32m     10\u001b[0m         result \u001b[38;5;241m==\u001b[39m number\n",
      "\u001b[1;31mNameError\u001b[0m: name 'result' is not defined"
     ]
    }
   ],
   "source": [
    "print(factorial(5))\n"
   ]
  },
  {
   "cell_type": "code",
   "execution_count": 22,
   "id": "180e33d3-371b-47c9-bfc9-9ecb690612c2",
   "metadata": {},
   "outputs": [
    {
     "name": "stdout",
     "output_type": "stream",
     "text": [
      "120\n",
      "Invalid input\n"
     ]
    }
   ],
   "source": [
    "def factorial(n):\n",
    "    if n < 0:     #changed > to < as n cannot be negative in factorial\n",
    "        return \"Invalid input\"\n",
    "    elif n == 0 or n==1: #changed != to == as n will always equal zero ore more. There are two scenarios where n!=1, hence added both \n",
    "        return 1\n",
    "    else:\n",
    "        result = 1\n",
    "        for number in range(1, n+1):\n",
    "            result *= number #factorial is where you multiply a list of increasing integers, hence changed from += to *= as += is adding the numbers together\n",
    "        return result\n",
    "\n",
    "\n",
    "print(factorial(5))   # Testing, expected output: 120\n",
    "print(factorial(-1))  # Testing, expected output: Invalid input"
   ]
  },
  {
   "cell_type": "code",
   "execution_count": null,
   "id": "391f97cd-c925-4fa5-b200-08512d0e72b5",
   "metadata": {},
   "outputs": [],
   "source": []
  }
 ],
 "metadata": {
  "kernelspec": {
   "display_name": "Python 3 (ipykernel)",
   "language": "python",
   "name": "python3"
  },
  "language_info": {
   "codemirror_mode": {
    "name": "ipython",
    "version": 3
   },
   "file_extension": ".py",
   "mimetype": "text/x-python",
   "name": "python",
   "nbconvert_exporter": "python",
   "pygments_lexer": "ipython3",
   "version": "3.12.3"
  },
  "toc": {
   "base_numbering": 1,
   "nav_menu": {},
   "number_sections": true,
   "sideBar": true,
   "skip_h1_title": false,
   "title_cell": "Table of Contents",
   "title_sidebar": "Contents",
   "toc_cell": false,
   "toc_position": {},
   "toc_section_display": true,
   "toc_window_display": false
  },
  "vscode": {
   "interpreter": {
    "hash": "31f2aee4e71d21fbe5cf8b01ff0e069b9275f58929596ceb00d14d90e3e16cd6"
   }
  }
 },
 "nbformat": 4,
 "nbformat_minor": 5
}
