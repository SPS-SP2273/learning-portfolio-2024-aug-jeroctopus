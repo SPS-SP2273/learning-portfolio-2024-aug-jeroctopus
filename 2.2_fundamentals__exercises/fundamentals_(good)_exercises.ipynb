{
 "cells": [
  {
   "attachments": {},
   "cell_type": "markdown",
   "id": "123456",
   "metadata": {},
   "source": [
    "<div style=\"text-align:left;font-size:2em\"><span style=\"font-weight:bolder;font-size:1.25em\">SP2273 | Learning Portfolio</span><br><br><span style=\"font-weight:bold;color:darkred\">Fundamentals (Good) Exercises</span></div>"
   ]
  },
  {
   "cell_type": "code",
   "execution_count": 1,
   "id": "082e34b2-74c7-43dd-bcee-ad388f2f9fb3",
   "metadata": {},
   "outputs": [],
   "source": [
    "animals=[ 'cat', 'dog', 'cow', 'sheep' ]\n",
    "furniture=[ 'chair', 'table', 'sofa', 'closet' ]"
   ]
  },
  {
   "cell_type": "code",
   "execution_count": 5,
   "id": "21da8dc7-6628-4a6f-be90-a6be5f1e8b21",
   "metadata": {},
   "outputs": [
    {
     "data": {
      "text/plain": [
       "True"
      ]
     },
     "execution_count": 5,
     "metadata": {},
     "output_type": "execute_result"
    }
   ],
   "source": [
    "'cat' in animals  #this is a question"
   ]
  },
  {
   "cell_type": "code",
   "execution_count": 4,
   "id": "06a7b3f6-9f62-4e88-9e7c-4a92520b8861",
   "metadata": {},
   "outputs": [
    {
     "data": {
      "text/plain": [
       "True"
      ]
     },
     "execution_count": 4,
     "metadata": {},
     "output_type": "execute_result"
    }
   ],
   "source": [
    "'chair' in furniture"
   ]
  },
  {
   "cell_type": "code",
   "execution_count": 6,
   "id": "66fea1f8-d0c4-4394-9835-225ecb7c5723",
   "metadata": {},
   "outputs": [
    {
     "data": {
      "text/plain": [
       "True"
      ]
     },
     "execution_count": 6,
     "metadata": {},
     "output_type": "execute_result"
    }
   ],
   "source": [
    "'ca' in 'cat'"
   ]
  },
  {
   "cell_type": "code",
   "execution_count": 7,
   "id": "9468f4b2-17c3-408b-bd6c-f445394ad385",
   "metadata": {},
   "outputs": [
    {
     "data": {
      "text/plain": [
       "False"
      ]
     },
     "execution_count": 7,
     "metadata": {},
     "output_type": "execute_result"
    }
   ],
   "source": [
    "a=0.1\n",
    "a3=0.3\n",
    "a*3==a3\n"
   ]
  },
  {
   "cell_type": "code",
   "execution_count": 11,
   "id": "029df6d9-dd25-4e25-b462-c483adb313ff",
   "metadata": {},
   "outputs": [],
   "source": [
    "name ='laura'"
   ]
  },
  {
   "cell_type": "code",
   "execution_count": 23,
   "id": "63aa918c-4484-4d35-89c1-852bbd73feba",
   "metadata": {},
   "outputs": [
    {
     "name": "stdin",
     "output_type": "stream",
     "text": [
      "What is your name? Laura\n"
     ]
    },
    {
     "name": "stdout",
     "output_type": "stream",
     "text": [
      "'How you doin', \u001b[1mLAURA!\u001b[0m\n"
     ]
    }
   ],
   "source": [
    "user_input = input('What is your name?')\n",
    "print(f\"'How you doin', \\033[1m{user_input.upper()}!\\033[0m\")"
   ]
  },
  {
   "cell_type": "code",
   "execution_count": null,
   "id": "753c08a9-fe5f-4848-8689-d53d964c9369",
   "metadata": {},
   "outputs": [],
   "source": []
  }
 ],
 "metadata": {
  "kernelspec": {
   "display_name": "Python 3 (ipykernel)",
   "language": "python",
   "name": "python3"
  },
  "language_info": {
   "codemirror_mode": {
    "name": "ipython",
    "version": 3
   },
   "file_extension": ".py",
   "mimetype": "text/x-python",
   "name": "python",
   "nbconvert_exporter": "python",
   "pygments_lexer": "ipython3",
   "version": "3.12.3"
  },
  "toc": {
   "base_numbering": 1,
   "nav_menu": {},
   "number_sections": true,
   "sideBar": true,
   "skip_h1_title": false,
   "title_cell": "Table of Contents",
   "title_sidebar": "Contents",
   "toc_cell": false,
   "toc_position": {},
   "toc_section_display": true,
   "toc_window_display": false
  },
  "vscode": {
   "interpreter": {
    "hash": "31f2aee4e71d21fbe5cf8b01ff0e069b9275f58929596ceb00d14d90e3e16cd6"
   }
  }
 },
 "nbformat": 4,
 "nbformat_minor": 5
}
