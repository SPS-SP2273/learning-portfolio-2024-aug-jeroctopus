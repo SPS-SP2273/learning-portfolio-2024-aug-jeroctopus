{
 "cells": [
  {
   "attachments": {},
   "cell_type": "markdown",
   "id": "123456",
   "metadata": {},
   "source": [
    "<div style=\"text-align:left;font-size:2em\"><span style=\"font-weight:bolder;font-size:1.25em\">SP2273 | Learning Portfolio</span><br><br><span style=\"font-weight:bold;color:darkred\">Fundamentals (Need) Exercises</span></div>"
   ]
  },
  {
   "cell_type": "markdown",
   "id": "1450f2df-ed39-4d76-b5f9-1d0247a2fe39",
   "metadata": {},
   "source": [
    "### Exercise 1 (Total Recall)\n",
    "1. Functions such as print\n",
    "2. Python is an interpreter and interprets one line at a time. If there is an error, it will stop interpreting and let you know there's an error un your command\n",
    "3. Python is sensitive to caps, e.g. print('Hello'} will work but not Print('Hello')\n",
    "4. Python is sensitive to spaces\n",
    "5. ( ) is used for functions, [ ] is used in mathematical questions, { } is used to create a dictionary where you can pull info from\n",
    "6. = is different from ==. = means equating two things together, == is asking a question\n",
    "7. \"if\" is to make a decision\n",
    "8. For mathematical equations like \"sqrt\", need to import either numpy or math into Python.  They only have to be installed once.\n",
    "9. Numpy and math packages both have their unique points, e.g. using numpy you can sqrt multiple numbers\n",
    "10. \".\" is used to separate words in a sentence, does not work on numbers\n",
    "11. *to add comments, add # in front of the sentence*\n",
    "12. *'hello' is a word, hello is a variable*\n",
    "    \n",
    "   "
   ]
  },
  {
   "cell_type": "code",
   "execution_count": 5,
   "id": "dff9be57-8355-4ee6-b691-27c851d45834",
   "metadata": {},
   "outputs": [],
   "source": [
    "import math\n",
    "\n",
    "\n",
    "\n",
    "\n"
   ]
  },
  {
   "cell_type": "code",
   "execution_count": 6,
   "id": "832987f8-f13c-4b0a-ba0c-89315a43fe4a",
   "metadata": {},
   "outputs": [
    {
     "data": {
      "text/plain": [
       "2.0"
      ]
     },
     "execution_count": 6,
     "metadata": {},
     "output_type": "execute_result"
    }
   ],
   "source": [
    "math.sqrt(4)"
   ]
  },
  {
   "cell_type": "code",
   "execution_count": 7,
   "id": "e37f3c13-8abb-4c47-88d1-d75bb2feed6b",
   "metadata": {},
   "outputs": [],
   "source": [
    "import numpy"
   ]
  },
  {
   "cell_type": "code",
   "execution_count": 12,
   "id": "167aac85-b85c-47d7-8c09-0410fb4b8691",
   "metadata": {},
   "outputs": [
    {
     "name": "stdout",
     "output_type": "stream",
     "text": [
      "3 4 5.0\n"
     ]
    }
   ],
   "source": [
    "x=3\n",
    "\n",
    "y=4\n",
    "\n",
    "z= math.sqrt(x**2+y**2)\n",
    "\n",
    "print(x,y,z)\n"
   ]
  },
  {
   "cell_type": "markdown",
   "id": "9c7ade1c-c29b-421f-afbc-157b90feaa8f",
   "metadata": {},
   "source": [
    "### Exercise 3\n",
    "\n"
   ]
  },
  {
   "cell_type": "code",
   "execution_count": null,
   "id": "bc89fee7-bd2d-4349-ba2f-1ee70e3b049f",
   "metadata": {},
   "outputs": [],
   "source": []
  }
 ],
 "metadata": {
  "kernelspec": {
   "display_name": "Python 3 (ipykernel)",
   "language": "python",
   "name": "python3"
  },
  "language_info": {
   "codemirror_mode": {
    "name": "ipython",
    "version": 3
   },
   "file_extension": ".py",
   "mimetype": "text/x-python",
   "name": "python",
   "nbconvert_exporter": "python",
   "pygments_lexer": "ipython3",
   "version": "3.12.3"
  },
  "toc": {
   "base_numbering": 1,
   "nav_menu": {},
   "number_sections": true,
   "sideBar": true,
   "skip_h1_title": false,
   "title_cell": "Table of Contents",
   "title_sidebar": "Contents",
   "toc_cell": false,
   "toc_position": {},
   "toc_section_display": true,
   "toc_window_display": false
  },
  "vscode": {
   "interpreter": {
    "hash": "31f2aee4e71d21fbe5cf8b01ff0e069b9275f58929596ceb00d14d90e3e16cd6"
   }
  }
 },
 "nbformat": 4,
 "nbformat_minor": 5
}
