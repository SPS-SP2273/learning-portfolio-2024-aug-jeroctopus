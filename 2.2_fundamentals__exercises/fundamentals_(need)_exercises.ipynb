{
 "cells": [
  {
   "attachments": {},
   "cell_type": "markdown",
   "id": "123456",
   "metadata": {},
   "source": [
    "<div style=\"text-align:left;font-size:2em\"><span style=\"font-weight:bolder;font-size:1.25em\">SP2273 | Learning Portfolio</span><br><br><span style=\"font-weight:bold;color:darkred\">Fundamentals (Need) Exercises</span></div>"
   ]
  },
  {
   "cell_type": "markdown",
   "id": "1450f2df-ed39-4d76-b5f9-1d0247a2fe39",
   "metadata": {},
   "source": [
    "### Exercise 1 (Total Recall)\n",
    "1. Functions such as print\n",
    "2. Python is an interpreter and interprets one line at a time. If there is an error, it will stop interpreting and let you know there's an error un your command\n",
    "3. Python is sensitive to caps, e.g. print('Hello') will work but not Print('Hello')\n",
    "4. Python is sensitive to spaces\n",
    "5. ( ) is used for functions, [ ] is used to input data, { } is used to create a dictionary where you can pull info from\n",
    "6. = is different from ==. = means equating two things together, == is asking a question about whether 2 things are equal.\n",
    "7. \"if\" is to make a decision\n",
    "8. For mathematical equations like \"sqrt\", need to import either numpy or math into Python.  They only have to be installed once.\n",
    "9. Numpy and math packages both have their unique points, e.g. using numpy you can sqrt multiple numbers\n",
    "10. \".\" is used to indicate ownership, allowing us to access certain functions like numpy or split()\n",
    "11. *to add comments, add # in front of the sentence*\n",
    "12. *'hello' is a word, hello is a variable*\n",
    "    \n",
    "   "
   ]
  },
  {
   "cell_type": "markdown",
   "id": "0ecd9b70-4ae6-4473-a48f-263c6b7912fc",
   "metadata": {},
   "source": [
    "### Exericse 2"
   ]
  },
  {
   "cell_type": "code",
   "execution_count": 5,
   "id": "dff9be57-8355-4ee6-b691-27c851d45834",
   "metadata": {},
   "outputs": [],
   "source": [
    "import math\n",
    "\n",
    "\n",
    "\n",
    "\n"
   ]
  },
  {
   "cell_type": "code",
   "execution_count": 6,
   "id": "832987f8-f13c-4b0a-ba0c-89315a43fe4a",
   "metadata": {},
   "outputs": [
    {
     "data": {
      "text/plain": [
       "2.0"
      ]
     },
     "execution_count": 6,
     "metadata": {},
     "output_type": "execute_result"
    }
   ],
   "source": [
    "math.sqrt(4)"
   ]
  },
  {
   "cell_type": "code",
   "execution_count": 6,
   "id": "e37f3c13-8abb-4c47-88d1-d75bb2feed6b",
   "metadata": {},
   "outputs": [],
   "source": [
    "import numpy"
   ]
  },
  {
   "cell_type": "code",
   "execution_count": 16,
   "id": "167aac85-b85c-47d7-8c09-0410fb4b8691",
   "metadata": {},
   "outputs": [
    {
     "name": "stdout",
     "output_type": "stream",
     "text": [
      "3 4 5\n"
     ]
    }
   ],
   "source": [
    "x,y = 3,4\n",
    "\n",
    "z= int(numpy.sqrt(x**2+y**2))  #added a missing asterix to the x  variable to complete the square function\n",
    "                         #removed indentations in front of the z variable equation  \n",
    "print(x,y,z)"
   ]
  },
  {
   "cell_type": "markdown",
   "id": "9c7ade1c-c29b-421f-afbc-157b90feaa8f",
   "metadata": {},
   "source": [
    "### Exercise 3\n",
    "\n"
   ]
  },
  {
   "cell_type": "markdown",
   "id": "07331be8-d15b-4c77-bd0b-5a0bc59341e3",
   "metadata": {},
   "source": [
    "|  # | Term         | Description                                                                                                                 |   |   |\n",
    "|:--:|--------------|-----------------------------------------------------------------------------------------------------------------------------|---|---|\n",
    "|  1 | Function     | A set of instructions that python interprets                                                                                |   |   |\n",
    "|  2 | Arguments    | Arguments are the exact details of the instructions that you want python to do                                              |   |   |\n",
    "|  3 | Comments     | A line of text used for clarification that is not code                                                                      |   |   |\n",
    "|  4 | Indentations | Adding a 'space' in front of the start of your code line that messes it up, also used by Python to seperate 'True' and 'False' outputs                                                  |   |   |\n",
    "|  5 | Packages     | Additional tools that you can download that help Python carry out more tasks e.g. math and numpy for mathematical equations |   |   |\n",
    "|  6 | .            | Used to show which instruction is directed to who                                                                           |   |   |\n",
    "|  7 | :            | Used as part of an ;if; statement to say what to do when True or False, also used to designate a block of code                                                      |   |   |\n",
    "|  8 | []           | Used to input and record 1D data                                                                                               |   |   |\n",
    "|  9 | [[],[]]      | To make 2D data\n",
    "| 10 | {}           | Used to store data in a dictionary where you can choose to pull out certain information using print(                          |   |   |"
   ]
  },
  {
   "cell_type": "markdown",
   "id": "66b11c6e-a70b-439d-a519-f5c462b9f8ea",
   "metadata": {},
   "source": [
    "### Exercise 4"
   ]
  },
  {
   "cell_type": "code",
   "execution_count": 21,
   "id": "eec98f54-e100-4bb4-953c-dc02066e9266",
   "metadata": {
    "jp-MarkdownHeadingCollapsed": true
   },
   "outputs": [
    {
     "name": "stdout",
     "output_type": "stream",
     "text": [
      "2.5\n"
     ]
    }
   ],
   "source": [
    "print(5/2)  #use the print function, followed by the equation in the brackets\n"
   ]
  },
  {
   "cell_type": "code",
   "execution_count": 21,
   "id": "4372f417-830c-4f02-b052-1c6213e27865",
   "metadata": {},
   "outputs": [
    {
     "name": "stdout",
     "output_type": "stream",
     "text": [
      "2.0\n"
     ]
    }
   ],
   "source": [
    "print(5//2) #same as the previous one but this time it gives me the quotient to the division\n",
    "\n"
   ]
  },
  {
   "cell_type": "code",
   "execution_count": 23,
   "id": "260d2b2d-59ce-47de-b0bc-808fcef6ddea",
   "metadata": {},
   "outputs": [
    {
     "name": "stdout",
     "output_type": "stream",
     "text": [
      "1\n"
     ]
    }
   ],
   "source": [
    "print(5%2)  #uses the print function as well, but this time it gives me the remainder of the division equation"
   ]
  },
  {
   "cell_type": "code",
   "execution_count": null,
   "id": "02aea522-941c-427d-9551-15e32400904f",
   "metadata": {},
   "outputs": [],
   "source": []
  }
 ],
 "metadata": {
  "kernelspec": {
   "display_name": "Python 3 (ipykernel)",
   "language": "python",
   "name": "python3"
  },
  "language_info": {
   "codemirror_mode": {
    "name": "ipython",
    "version": 3
   },
   "file_extension": ".py",
   "mimetype": "text/x-python",
   "name": "python",
   "nbconvert_exporter": "python",
   "pygments_lexer": "ipython3",
   "version": "3.12.3"
  },
  "toc": {
   "base_numbering": 1,
   "nav_menu": {},
   "number_sections": true,
   "sideBar": true,
   "skip_h1_title": false,
   "title_cell": "Table of Contents",
   "title_sidebar": "Contents",
   "toc_cell": false,
   "toc_position": {},
   "toc_section_display": true,
   "toc_window_display": false
  },
  "vscode": {
   "interpreter": {
    "hash": "31f2aee4e71d21fbe5cf8b01ff0e069b9275f58929596ceb00d14d90e3e16cd6"
   }
  }
 },
 "nbformat": 4,
 "nbformat_minor": 5
}
