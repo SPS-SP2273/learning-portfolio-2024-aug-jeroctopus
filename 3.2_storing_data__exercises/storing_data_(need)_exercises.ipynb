{
 "cells": [
  {
   "attachments": {},
   "cell_type": "markdown",
   "id": "123456",
   "metadata": {},
   "source": [
    "<div style=\"text-align:left;font-size:2em\"><span style=\"font-weight:bolder;font-size:1.25em\">SP2273 | Learning Portfolio</span><br><br><span style=\"font-weight:bold;color:darkred\">Storing Data (Need) Exercises</span></div>"
   ]
  },
  {
   "cell_type": "code",
   "execution_count": 16,
   "id": "5c4ba854-501c-4eed-8e52-7c953a35b844",
   "metadata": {},
   "outputs": [],
   "source": [
    "import numpy as np"
   ]
  },
  {
   "cell_type": "markdown",
   "id": "217d607c-1992-4f68-a71a-d0cfeae9a51e",
   "metadata": {},
   "source": [
    "### Exercise 1\n",
    "1. 1 similarity between lists and arrays is that a specific item in the list/array can be selected by selecting its relevant index starting from 0.\n",
    "    Another similarity is that the number of elements can be found in a list/array using len() function.\n",
    "2. 1 difference between lists and array is that for lists, it works on the entire set of data whereas for arrays, it works on the individual elements.\n",
    "   Another difference between lists and array is that arrays only accept one type of data whereas lists accept all.\n",
    "3. A dictionary is *works similarly to lists and arrays, except it doesn't need two lines of data to hold two types of data, and it can be accessed via a key*"
   ]
  },
  {
   "cell_type": "markdown",
   "id": "e9faf30c-6965-405a-928a-854fc32705ef",
   "metadata": {},
   "source": [
    "### Exercise 2"
   ]
  },
  {
   "cell_type": "code",
   "execution_count": 17,
   "id": "fd81543f-a835-46b7-af15-d9c5b12ba637",
   "metadata": {},
   "outputs": [
    {
     "name": "stdout",
     "output_type": "stream",
     "text": [
      "['a1', 'c3', 'e5', 'g7', 'i9']\n"
     ]
    }
   ],
   "source": [
    "py_list = [\"a1\", \"b2\", \"c3\", \"d4\", \"e5\", \"f6\", \"g7\", \"h8\", \"i9\", \"j10\"]\n",
    "print(py_list[::2])"
   ]
  },
  {
   "cell_type": "markdown",
   "id": "7e7eaa6a-fad6-4173-a584-9eafe9d69145",
   "metadata": {},
   "source": [
    "### Exercise 3"
   ]
  },
  {
   "cell_type": "code",
   "execution_count": 18,
   "id": "8c448d71-7a4f-4995-a26e-db21abb286f8",
   "metadata": {},
   "outputs": [
    {
     "name": "stdout",
     "output_type": "stream",
     "text": [
      "Boron\n",
      "Boron\n"
     ]
    }
   ],
   "source": [
    "elements = ['Hydrogen',\n",
    "            'Helium', 'Lithium',\n",
    "            'Beryllium', 'Boron', 'Carbon',\n",
    "            'Nitrogen', 'Oxygen',\n",
    "            'Fluorine',\n",
    "            'Neon']\n",
    "\n",
    "print(elements[4])\n",
    "print(elements[-6])"
   ]
  },
  {
   "cell_type": "markdown",
   "id": "5cbf308b-7f8e-44ad-8604-36273c81c96c",
   "metadata": {},
   "source": [
    "### Exercise 4"
   ]
  },
  {
   "cell_type": "code",
   "execution_count": 19,
   "id": "ef470f1e-f2ff-4a3b-a785-5447a6e45406",
   "metadata": {},
   "outputs": [],
   "source": [
    "numbers=[45, 60, 1, 30, 96, 1, 96, 57, 16, 1,\n",
    "        99, 62, 86, 43, 42, 60, 59, 1, 1, 35,\n",
    "        83, 47, 34, 28, 68, 23, 22, 92, 1, 79,\n",
    "        1, 29, 94, 72, 46, 47, 1, 74, 32, 20,\n",
    "        8, 37, 35, 1, 89, 29, 86, 19, 43, 61]                  \n",
    "np_array = np.array([45, 60, 1, 30, 96, 1, 96, 57, 16, 1,\n",
    "        99, 62, 86, 43, 42, 60, 59, 1, 1, 35,\n",
    "        83, 47, 34, 28, 68, 23, 22, 92, 1, 79,\n",
    "        1, 29, 94, 72, 46, 47, 1, 74, 32, 20,\n",
    "        8, 37, 35, 1, 89, 29, 86, 19, 43, 61]    )"
   ]
  },
  {
   "cell_type": "code",
   "execution_count": 20,
   "id": "0b2aca4a-24bc-42bd-8ef0-ac34f7246ad4",
   "metadata": {},
   "outputs": [
    {
     "name": "stdout",
     "output_type": "stream",
     "text": [
      "9\n"
     ]
    }
   ],
   "source": [
    "print(sum(np_array == 1))"
   ]
  },
  {
   "cell_type": "markdown",
   "id": "c79f51f9-f3f6-4a0e-a1fa-49b4000534ad",
   "metadata": {},
   "source": [
    "### Exercise 5\""
   ]
  },
  {
   "cell_type": "code",
   "execution_count": 21,
   "id": "ced7bab5-7afb-4844-8b5d-a1973d862798",
   "metadata": {},
   "outputs": [
    {
     "name": "stdout",
     "output_type": "stream",
     "text": [
      "[  1   4   9  16  25  36  49  64  81 100]\n"
     ]
    }
   ],
   "source": [
    "x_1 = [1, 4, 9, 16, 25, 36, 49, 64, 81, 100]\n",
    "x_2 = [1, 8, 27, 64, 125, 216, 343, 512, 729, 1000]\n",
    "\n",
    "np_array_1 = np.array(x_1)\n",
    "np_array_2 = np.array(x_2)\n",
    "print(np_array_1)"
   ]
  },
  {
   "cell_type": "code",
   "execution_count": 22,
   "id": "279fc77c-c5db-4f2c-8d40-9f1c3dd70663",
   "metadata": {},
   "outputs": [
    {
     "name": "stdout",
     "output_type": "stream",
     "text": [
      "38.5 <class 'numpy.float64'>\n",
      "302.5 <class 'numpy.float64'>\n"
     ]
    }
   ],
   "source": [
    "mean1=np.mean(np_array_1)\n",
    "mean2=np.mean(np_array_2)\n",
    "\n",
    "print(mean1,type(mean1))\n",
    "print(mean2,type(mean2))\n",
    "\n"
   ]
  },
  {
   "cell_type": "code",
   "execution_count": 23,
   "id": "e995ae08-05cb-47b5-9c20-6b68d22d7b33",
   "metadata": {},
   "outputs": [
    {
     "name": "stdout",
     "output_type": "stream",
     "text": [
      "32.41990129534635\n",
      "326.0893282522444\n"
     ]
    }
   ],
   "source": [
    "S1 = np.std(np_array_1)\n",
    "S2 = np.std(np_array_2)\n",
    "print(S1)\n",
    "print(S2)\n"
   ]
  },
  {
   "cell_type": "code",
   "execution_count": 24,
   "id": "49f2318e-bbba-459c-9260-85b2d63eaa9d",
   "metadata": {},
   "outputs": [
    {
     "name": "stdout",
     "output_type": "stream",
     "text": [
      "385 <class 'int'>\n",
      "3025 <class 'int'>\n"
     ]
    }
   ],
   "source": [
    "sum1=int(np.sum(np_array_1))\n",
    "sum2=int(np.sum(np_array_2))\n",
    "\n",
    "print(sum1, type(sum1))\n",
    "print(sum2, type(sum2))"
   ]
  },
  {
   "cell_type": "code",
   "execution_count": 25,
   "id": "0c3f3e94-c4aa-4b15-a7b9-acffa22b877d",
   "metadata": {},
   "outputs": [
    {
     "name": "stdout",
     "output_type": "stream",
     "text": [
      "10436.25\n"
     ]
    }
   ],
   "source": [
    "covariance=np.mean((np_array_1 - mean1)*(np_array_2 - mean2))\n",
    "print(covariance)"
   ]
  },
  {
   "cell_type": "code",
   "execution_count": 28,
   "id": "d8bc2bfc-3fb8-411f-b541-63962aaf2b27",
   "metadata": {},
   "outputs": [
    {
     "name": "stdout",
     "output_type": "stream",
     "text": [
      "[0.98717966]\n"
     ]
    }
   ],
   "source": [
    "print(covariance/[(S1)*(S2)])"
   ]
  },
  {
   "cell_type": "code",
   "execution_count": 29,
   "id": "293ddf60-50e5-4456-9ac1-d616b4793073",
   "metadata": {},
   "outputs": [
    {
     "data": {
      "text/plain": [
       "array([[1.        , 0.98717966],\n",
       "       [0.98717966, 1.        ]])"
      ]
     },
     "execution_count": 29,
     "metadata": {},
     "output_type": "execute_result"
    }
   ],
   "source": [
    "np.corrcoef(np_array_1, np_array_2)"
   ]
  },
  {
   "cell_type": "code",
   "execution_count": null,
   "id": "87cb467e-bb62-4524-9010-38967bf6ca98",
   "metadata": {},
   "outputs": [],
   "source": []
  },
  {
   "cell_type": "code",
   "execution_count": null,
   "id": "094f9a74-1fc2-44cf-93d2-cb7ec2b8fd60",
   "metadata": {},
   "outputs": [],
   "source": []
  }
 ],
 "metadata": {
  "kernelspec": {
   "display_name": "Python 3 (ipykernel)",
   "language": "python",
   "name": "python3"
  },
  "language_info": {
   "codemirror_mode": {
    "name": "ipython",
    "version": 3
   },
   "file_extension": ".py",
   "mimetype": "text/x-python",
   "name": "python",
   "nbconvert_exporter": "python",
   "pygments_lexer": "ipython3",
   "version": "3.12.3"
  },
  "toc": {
   "base_numbering": 1,
   "nav_menu": {},
   "number_sections": true,
   "sideBar": true,
   "skip_h1_title": false,
   "title_cell": "Table of Contents",
   "title_sidebar": "Contents",
   "toc_cell": false,
   "toc_position": {},
   "toc_section_display": true,
   "toc_window_display": false
  },
  "vscode": {
   "interpreter": {
    "hash": "31f2aee4e71d21fbe5cf8b01ff0e069b9275f58929596ceb00d14d90e3e16cd6"
   }
  }
 },
 "nbformat": 4,
 "nbformat_minor": 5
}
