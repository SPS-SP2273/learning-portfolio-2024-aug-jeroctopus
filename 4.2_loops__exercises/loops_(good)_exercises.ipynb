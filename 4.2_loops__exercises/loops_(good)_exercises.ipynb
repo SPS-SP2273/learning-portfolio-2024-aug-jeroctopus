{
 "cells": [
  {
   "attachments": {},
   "cell_type": "markdown",
   "id": "123456",
   "metadata": {},
   "source": [
    "<div style=\"text-align:left;font-size:2em\"><span style=\"font-weight:bolder;font-size:1.25em\">SP2273 | Learning Portfolio</span><br><br><span style=\"font-weight:bold;color:darkred\">Loops (Good) Exercises</span></div>"
   ]
  },
  {
   "cell_type": "code",
   "execution_count": 51,
   "id": "35534120-1dc7-4879-b277-0b232772f543",
   "metadata": {},
   "outputs": [
    {
     "name": "stdout",
     "output_type": "stream",
     "text": [
      "1\n",
      "9\n",
      "25\n",
      "49\n",
      "81\n"
     ]
    },
    {
     "data": {
      "text/plain": [
       "0.00017389998538419604"
      ]
     },
     "execution_count": 51,
     "metadata": {},
     "output_type": "execute_result"
    }
   ],
   "source": [
    "def oddsquares():\n",
    "    for number in range (10):\n",
    "        if number % 2 == 0:\n",
    "            continue\n",
    "        print (number**2)\n",
    "timeit.timeit('oddsquares()', globals=globals(), number = 1)"
   ]
  },
  {
   "cell_type": "code",
   "execution_count": 4,
   "id": "34f88e03-66db-4c0a-91a9-83e2b892dc24",
   "metadata": {},
   "outputs": [],
   "source": [
    "import numpy as np"
   ]
  },
  {
   "cell_type": "code",
   "execution_count": 54,
   "id": "0bca383f-1cd2-44ed-b9b2-274bd3cb8768",
   "metadata": {},
   "outputs": [
    {
     "name": "stdout",
     "output_type": "stream",
     "text": [
      "[1, 9, 25, 49, 81]\n"
     ]
    }
   ],
   "source": [
    "def oddsquares2():\n",
    "    squares = [x ** 2 for x in range(1,10,2)]\n",
    "print(squares)\n",
    "\n",
    "                    "
   ]
  },
  {
   "cell_type": "code",
   "execution_count": 41,
   "id": "9a9b2ebf-d58b-4575-a3dc-e2b54fbcd105",
   "metadata": {},
   "outputs": [],
   "source": [
    "import timeit"
   ]
  },
  {
   "cell_type": "code",
   "execution_count": 55,
   "id": "59903ac0-8a31-4a56-82e5-2ae9771ac9f4",
   "metadata": {},
   "outputs": [
    {
     "data": {
      "text/plain": [
       "7.419998291879892e-05"
      ]
     },
     "execution_count": 55,
     "metadata": {},
     "output_type": "execute_result"
    }
   ],
   "source": [
    "timeit.timeit('oddsquares2()', globals=globals(), number = 1)"
   ]
  },
  {
   "cell_type": "markdown",
   "id": "8639413d-7f6b-421f-ab4c-92315d14f191",
   "metadata": {},
   "source": [
    "Using list comprehension is faster."
   ]
  },
  {
   "cell_type": "code",
   "execution_count": 64,
   "id": "e0a60c76-89ef-43e3-b821-63fe1db8fc14",
   "metadata": {},
   "outputs": [
    {
     "name": "stdout",
     "output_type": "stream",
     "text": [
      "100\n",
      "95.0\n",
      "90.25\n",
      "85.7375\n",
      "81.45062499999999\n",
      "77.37809374999999\n",
      "73.50918906249998\n",
      "69.83372960937498\n",
      "66.34204312890623\n",
      "63.02494097246091\n",
      "59.87369392383786\n",
      "56.880009227645964\n",
      "54.03600876626366\n",
      "51.33420832795048\n"
     ]
    }
   ],
   "source": [
    "units=100\n",
    "while units>50:\n",
    "    print(units)\n",
    "    units *= 0.95"
   ]
  },
  {
   "cell_type": "markdown",
   "id": "f1edcbe3-e9a7-4ece-b662-ac8ecd883d2b",
   "metadata": {},
   "source": [
    "It will take 14 years."
   ]
  },
  {
   "cell_type": "code",
   "execution_count": 65,
   "id": "64d6e009-67bf-4b86-aeed-d8a2de0b4598",
   "metadata": {},
   "outputs": [],
   "source": [
    "co2_data = [\n",
    "    (2000, 369.55), (2001, 371.14), (2002, 373.28), \n",
    "    (2003, 375.80), (2004, 377.52), (2005, 379.80), \n",
    "    (2006, 381.90), (2007, 383.79), (2008, 385.60), \n",
    "    (2009, 387.43), (2010, 389.90), (2011, 391.65), \n",
    "    (2012, 393.85), (2013, 396.52), (2014, 398.65),\n",
    "    (2015, 400.83), (2016, 404.24), (2017, 406.55), \n",
    "    (2018, 408.52), (2019, 411.44), (2020, 414.24)\n",
    "]"
   ]
  },
  {
   "cell_type": "code",
   "execution_count": null,
   "id": "ddaa205c-ff76-4213-9508-afa14c6eaa55",
   "metadata": {},
   "outputs": [],
   "source": []
  }
 ],
 "metadata": {
  "kernelspec": {
   "display_name": "Python 3 (ipykernel)",
   "language": "python",
   "name": "python3"
  },
  "language_info": {
   "codemirror_mode": {
    "name": "ipython",
    "version": 3
   },
   "file_extension": ".py",
   "mimetype": "text/x-python",
   "name": "python",
   "nbconvert_exporter": "python",
   "pygments_lexer": "ipython3",
   "version": "3.12.3"
  },
  "toc": {
   "base_numbering": 1,
   "nav_menu": {},
   "number_sections": true,
   "sideBar": true,
   "skip_h1_title": false,
   "title_cell": "Table of Contents",
   "title_sidebar": "Contents",
   "toc_cell": false,
   "toc_position": {},
   "toc_section_display": true,
   "toc_window_display": false
  },
  "vscode": {
   "interpreter": {
    "hash": "31f2aee4e71d21fbe5cf8b01ff0e069b9275f58929596ceb00d14d90e3e16cd6"
   }
  }
 },
 "nbformat": 4,
 "nbformat_minor": 5
}
