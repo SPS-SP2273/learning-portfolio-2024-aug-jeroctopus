{
 "cells": [
  {
   "attachments": {},
   "cell_type": "markdown",
   "id": "123456",
   "metadata": {},
   "source": [
    "\n",
    "\n",
    "<div style=\"text-align:left;font-size:2em\"><span style=\"font-weight:bolder;font-size:1.25em\">SP2273 | Learning Portfolio</span><br><br><span style=\"font-weight:bold;color:darkred\">Loops (Good) Exercises</span></div>"
   ]
  },
  {
   "cell_type": "code",
   "execution_count": 54,
   "id": "34f88e03-66db-4c0a-91a9-83e2b892dc24",
   "metadata": {},
   "outputs": [],
   "source": [
    "import numpy as np"
   ]
  },
  {
   "cell_type": "code",
   "execution_count": null,
   "id": "3fac5b9c-6729-4b16-94c3-257eecbb2348",
   "metadata": {},
   "outputs": [],
   "source": []
  },
  {
   "cell_type": "code",
   "execution_count": 55,
   "id": "35534120-1dc7-4879-b277-0b232772f543",
   "metadata": {},
   "outputs": [
    {
     "name": "stdout",
     "output_type": "stream",
     "text": [
      "[1, 9, 25, 49, 81]\n"
     ]
    },
    {
     "data": {
      "text/plain": [
       "1.2899981811642647e-05"
      ]
     },
     "execution_count": 55,
     "metadata": {},
     "output_type": "execute_result"
    }
   ],
   "source": [
    "def oddsquares():\n",
    "    myrange = []\n",
    "    for number in range(10):\n",
    "        if number % 2 == 0:\n",
    "             continue\n",
    "        myrange.append(number**2)\n",
    "print(myrange)\n",
    "timeit.timeit('oddsquares()', globals=globals(), number = 10)\n",
    "    \n",
    "\n"
   ]
  },
  {
   "cell_type": "code",
   "execution_count": 56,
   "id": "0bca383f-1cd2-44ed-b9b2-274bd3cb8768",
   "metadata": {},
   "outputs": [
    {
     "name": "stdout",
     "output_type": "stream",
     "text": [
      "[1, 9, 25, 49, 81]\n",
      "[1, 9, 25, 49, 81]\n",
      "[1, 9, 25, 49, 81]\n",
      "[1, 9, 25, 49, 81]\n",
      "[1, 9, 25, 49, 81]\n",
      "[1, 9, 25, 49, 81]\n",
      "[1, 9, 25, 49, 81]\n",
      "[1, 9, 25, 49, 81]\n",
      "[1, 9, 25, 49, 81]\n",
      "[1, 9, 25, 49, 81]\n"
     ]
    },
    {
     "data": {
      "text/plain": [
       "0.00013920001219958067"
      ]
     },
     "execution_count": 56,
     "metadata": {},
     "output_type": "execute_result"
    }
   ],
   "source": [
    "def oddsquares2():\n",
    "    squares = [x ** 2 for x in range(1,10,2)]\n",
    "    print(squares)\n",
    "timeit.timeit('oddsquares2()', globals=globals(), number = 10)\n",
    "\n",
    " \n",
    "                    "
   ]
  },
  {
   "cell_type": "code",
   "execution_count": 57,
   "id": "0f524c29-03bd-4006-88a4-8b33eb9ad06a",
   "metadata": {},
   "outputs": [],
   "source": [
    "import timeit"
   ]
  },
  {
   "cell_type": "code",
   "execution_count": null,
   "id": "9a9b2ebf-d58b-4575-a3dc-e2b54fbcd105",
   "metadata": {},
   "outputs": [],
   "source": []
  },
  {
   "cell_type": "code",
   "execution_count": null,
   "id": "59903ac0-8a31-4a56-82e5-2ae9771ac9f4",
   "metadata": {},
   "outputs": [],
   "source": []
  },
  {
   "cell_type": "markdown",
   "id": "8639413d-7f6b-421f-ab4c-92315d14f191",
   "metadata": {},
   "source": [
    "Using list comprehension is faster."
   ]
  },
  {
   "cell_type": "code",
   "execution_count": 58,
   "id": "2ef5daa7-59dd-4b32-aeef-31e6f9793572",
   "metadata": {},
   "outputs": [],
   "source": [
    "from collections import Counter"
   ]
  },
  {
   "cell_type": "code",
   "execution_count": 59,
   "id": "e0a60c76-89ef-43e3-b821-63fe1db8fc14",
   "metadata": {},
   "outputs": [
    {
     "name": "stdout",
     "output_type": "stream",
     "text": [
      "100\n",
      "95.0\n",
      "90.25\n",
      "85.7375\n",
      "81.45062499999999\n",
      "77.37809374999999\n",
      "73.50918906249998\n",
      "69.83372960937498\n",
      "66.34204312890623\n",
      "63.02494097246091\n",
      "59.87369392383786\n",
      "56.880009227645964\n",
      "54.03600876626366\n",
      "51.33420832795048\n",
      "14\n"
     ]
    }
   ],
   "source": [
    "myunits=[]\n",
    "units=100\n",
    "while units>50:\n",
    "    print(units)\n",
    "    units *= 0.95\n",
    "    myunits.append(units)\n",
    "print(len(myunits))\n",
    "\n"
   ]
  },
  {
   "cell_type": "markdown",
   "id": "f1edcbe3-e9a7-4ece-b662-ac8ecd883d2b",
   "metadata": {},
   "source": [
    "It will take 14 years."
   ]
  },
  {
   "cell_type": "code",
   "execution_count": 60,
   "id": "64d6e009-67bf-4b86-aeed-d8a2de0b4598",
   "metadata": {},
   "outputs": [],
   "source": [
    "co2_data = [\n",
    "    (2000, 369.55), (2001, 371.14), (2002, 373.28), \n",
    "    (2003, 375.80), (2004, 377.52), (2005, 379.80), \n",
    "    (2006, 381.90), (2007, 383.79), (2008, 385.60), \n",
    "    (2009, 387.43), (2010, 389.90), (2011, 391.65), \n",
    "    (2012, 393.85), (2013, 396.52), (2014, 398.65),\n",
    "    (2015, 400.83), (2016, 404.24), (2017, 406.55), \n",
    "    (2018, 408.52), (2019, 411.44), (2020, 414.24)\n",
    "]"
   ]
  },
  {
   "cell_type": "code",
   "execution_count": 61,
   "id": "2ac992bc-3e31-4bee-a297-59729f138eeb",
   "metadata": {},
   "outputs": [
    {
     "name": "stdout",
     "output_type": "stream",
     "text": [
      "369.55\n",
      "371.14\n",
      "373.28\n",
      "375.8\n",
      "377.52\n",
      "379.8\n",
      "381.9\n",
      "383.79\n",
      "385.6\n",
      "387.43\n",
      "389.9\n",
      "391.65\n",
      "393.85\n",
      "396.52\n",
      "398.65\n",
      "400.83\n",
      "404.24\n",
      "406.55\n",
      "408.52\n",
      "411.44\n",
      "414.24\n"
     ]
    }
   ],
   "source": [
    "for i in range (0,len(co2_data)):\n",
    "   print(co2_data[i][1])\n"
   ]
  },
  {
   "cell_type": "code",
   "execution_count": 62,
   "id": "51771d3a-105c-4d64-b9bf-d88887d6b6d4",
   "metadata": {},
   "outputs": [
    {
     "name": "stdout",
     "output_type": "stream",
     "text": [
      "414.24\n"
     ]
    }
   ],
   "source": [
    "  print(co2_data[i-len(co2_data)][1])"
   ]
  },
  {
   "cell_type": "code",
   "execution_count": 63,
   "id": "1c6633c0-673c-4d8c-a6fc-770ba6fcea16",
   "metadata": {},
   "outputs": [
    {
     "name": "stdout",
     "output_type": "stream",
     "text": [
      "2016 3.41\n"
     ]
    }
   ],
   "source": [
    "for i in range (0,len(co2_data)):\n",
    "  if co2_data[i][1]-co2_data[i-1][1]<3:\n",
    "      continue\n",
    "  print(co2_data[i][0],f\"{co2_data[i][1]-co2_data[i-1][1]:.2f}\")\n",
    "    \n",
    "        "
   ]
  },
  {
   "cell_type": "code",
   "execution_count": null,
   "id": "3ee00717-b9fc-4750-bfbc-ad0aadfdc3c4",
   "metadata": {},
   "outputs": [],
   "source": []
  },
  {
   "cell_type": "code",
   "execution_count": null,
   "id": "65ca45e5-0c18-4b00-8daf-715a0d77d9f5",
   "metadata": {},
   "outputs": [],
   "source": []
  }
 ],
 "metadata": {
  "kernelspec": {
   "display_name": "Python 3 (ipykernel)",
   "language": "python",
   "name": "python3"
  },
  "language_info": {
   "codemirror_mode": {
    "name": "ipython",
    "version": 3
   },
   "file_extension": ".py",
   "mimetype": "text/x-python",
   "name": "python",
   "nbconvert_exporter": "python",
   "pygments_lexer": "ipython3",
   "version": "3.12.3"
  },
  "toc": {
   "base_numbering": 1,
   "nav_menu": {},
   "number_sections": true,
   "sideBar": true,
   "skip_h1_title": false,
   "title_cell": "Table of Contents",
   "title_sidebar": "Contents",
   "toc_cell": false,
   "toc_position": {},
   "toc_section_display": true,
   "toc_window_display": false
  },
  "vscode": {
   "interpreter": {
    "hash": "31f2aee4e71d21fbe5cf8b01ff0e069b9275f58929596ceb00d14d90e3e16cd6"
   }
  }
 },
 "nbformat": 4,
 "nbformat_minor": 5
}
