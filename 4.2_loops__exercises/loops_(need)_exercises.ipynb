{
 "cells": [
  {
   "attachments": {},
   "cell_type": "markdown",
   "id": "123456",
   "metadata": {},
   "source": [
    "<div style=\"text-align:left;font-size:2em\"><span style=\"font-weight:bolder;font-size:1.25em\">SP2273 | Learning Portfolio</span><br><br><span style=\"font-weight:bold;color:darkred\">Loops (Need) Exercises</span></div>"
   ]
  },
  {
   "cell_type": "code",
   "execution_count": 1,
   "id": "86bf0911-0c7b-4e18-8dfd-3c4160f529d2",
   "metadata": {},
   "outputs": [],
   "source": [
    "temperatures_celsius = [\n",
    "    0, 5, 10, 15, 20, 25,\n",
    "    30, 35, 40, 45, 50\n",
    "]"
   ]
  },
  {
   "cell_type": "code",
   "execution_count": 2,
   "id": "7698fcc6-9daf-4d74-a465-34c74d577e79",
   "metadata": {},
   "outputs": [],
   "source": [
    "import numpy as np\n"
   ]
  },
  {
   "cell_type": "code",
   "execution_count": 4,
   "id": "b66a6e5e-8608-491e-9773-6c9b69ee1146",
   "metadata": {},
   "outputs": [],
   "source": [
    "temp_celsius=np.array(temperatures_celsius)"
   ]
  },
  {
   "cell_type": "code",
   "execution_count": 18,
   "id": "0e3e9ff9-5828-416b-8b08-02d50e54edc6",
   "metadata": {},
   "outputs": [],
   "source": [
    "\n",
    "temp_farenheit=(temp_celsius*2+10)"
   ]
  },
  {
   "cell_type": "code",
   "execution_count": 19,
   "id": "4a475c33-e594-4015-a31e-89c21cfda792",
   "metadata": {},
   "outputs": [
    {
     "name": "stdout",
     "output_type": "stream",
     "text": [
      "[ 10  20  30  40  50  60  70  80  90 100 110]\n"
     ]
    }
   ],
   "source": [
    "print(temp_farenheit)"
   ]
  },
  {
   "cell_type": "code",
   "execution_count": 20,
   "id": "f1f4f07b-2aca-4092-b1a4-d084e0f35ee2",
   "metadata": {},
   "outputs": [
    {
     "name": "stdout",
     "output_type": "stream",
     "text": [
      "0 10\n",
      "5 20\n",
      "10 30\n",
      "15 40\n",
      "20 50\n",
      "25 60\n",
      "30 70\n",
      "35 80\n",
      "40 90\n",
      "45 100\n",
      "50 110\n"
     ]
    }
   ],
   "source": [
    "for index, celsius in enumerate(temp_celsius):\n",
    "    farenheit=temp_farenheit[index]\n",
    "    print(celsius,farenheit)\n"
   ]
  },
  {
   "cell_type": "code",
   "execution_count": 22,
   "id": "4ab078c1-8df3-4c65-bef4-5d31153ffddf",
   "metadata": {},
   "outputs": [
    {
     "name": "stdout",
     "output_type": "stream",
     "text": [
      "A1\tA2\tA3\t\n",
      "\n",
      "B1\tB2\tB3\t\n",
      "\n",
      "C1\tC2\tC3\t\n",
      "\n"
     ]
    }
   ],
   "source": [
    "for letter in ['A', 'B', 'C']:\n",
    "    for number in [1, 2, 3]:\n",
    "        print(f'{letter}{number}', end='\\t')\n",
    "    print('\\n')\n",
    "\n",
    " "
   ]
  },
  {
   "cell_type": "code",
   "execution_count": 66,
   "id": "f5ac33cf-42ec-4e7b-9736-c87984230c1e",
   "metadata": {},
   "outputs": [
    {
     "name": "stdout",
     "output_type": "stream",
     "text": [
      "1 : \t1\t2\t3\t4\t5\t\n",
      "\n",
      "2 : \t2\t4\t6\t8\t10\t\n",
      "\n",
      "3 : \t3\t6\t9\t12\t15\t\n",
      "\n",
      "4 : \t4\t8\t12\t16\t20\t\n",
      "\n",
      "5 : \t5\t10\t15\t20\t25\t\n",
      "\n"
     ]
    }
   ],
   "source": [
    "\n",
    "\n",
    " for i in range (1,6):\n",
    "     print(f\"{i} : \", end='\\t')\n",
    "     for j in range (1,6):\n",
    "          print(i*j, end ='\\t')\n",
    "     print('\\n')"
   ]
  },
  {
   "cell_type": "code",
   "execution_count": 74,
   "id": "08ebed78-8e7a-4f34-85ea-3508e8e5f029",
   "metadata": {},
   "outputs": [
    {
     "data": {
      "text/plain": [
       "array([0.8797613 , 0.76555271, 0.31186651, 0.64703074, 0.19571385,\n",
       "       0.51929088, 0.25821402, 0.15898631, 0.78225391, 0.85513872])"
      ]
     },
     "execution_count": 74,
     "metadata": {},
     "output_type": "execute_result"
    }
   ],
   "source": [
    "np.random.rand(10)"
   ]
  },
  {
   "cell_type": "code",
   "execution_count": 85,
   "id": "a06c4607-4ace-4980-b1fc-49e516e9c3e7",
   "metadata": {},
   "outputs": [],
   "source": [
    "dicerolls=np.random.rand(10)"
   ]
  },
  {
   "cell_type": "code",
   "execution_count": 110,
   "id": "c492529f-1815-46ab-916f-375aba6d0c75",
   "metadata": {},
   "outputs": [
    {
     "name": "stdout",
     "output_type": "stream",
     "text": [
      "Experiment1 : \t[0.19258969 0.92637022 0.6542021  0.56431649 0.51422658 0.631836\n",
      " 0.39693043 0.26732222 0.62634093 0.02101673]\tNo.of Heads=[False  True False  True False False False False False  True]\n",
      "Experiment2 : \t[0.77359709 0.8012206  0.31748277 0.5551843  0.72651358 0.41130098\n",
      " 0.70669484 0.90874776 0.32335998 0.21890737]\tNo.of Heads=[False False  True False False  True  True False  True False]\n",
      "Experiment3 : \t[0.88001184 0.2293321  0.59580445 0.76342309 0.86851989 0.75017642\n",
      " 0.35688693 0.09457717 0.34652277 0.18858606]\tNo.of Heads=[False  True False False False  True  True False  True  True]\n",
      "Experiment4 : \t[0.55754806 0.54841571 0.46830751 0.51806699 0.94263898 0.90347003\n",
      " 0.52692699 0.26823723 0.39908286 0.82948807]\tNo.of Heads=[ True  True False False False False  True False  True False]\n",
      "Experiment5 : \t[0.84032141 0.92428839 0.94759412 0.43369423 0.93329219 0.33550406\n",
      " 0.28131716 0.12856463 0.4490059  0.64713378]\tNo.of Heads=[False  True  True  True  True  True False  True  True  True]\n",
      "Experiment6 : \t[0.72398854 0.4099534  0.83705003 0.10006905 0.70526526 0.40901865\n",
      " 0.29710269 0.52495274 0.61534854 0.18273221]\tNo.of Heads=[ True False False False  True  True  True False  True  True]\n",
      "Experiment7 : \t[0.24819883 0.25263437 0.26237759 0.3252028  0.02650399 0.65021491\n",
      " 0.15317976 0.61885253 0.96878704 0.52111928]\tNo.of Heads=[ True False False  True  True False False  True False False]\n",
      "Experiment8 : \t[0.33160668 0.74531007 0.56566571 0.17186024 0.63329837 0.24401745\n",
      " 0.83547734 0.63179866 0.41357824 0.88511605]\tNo.of Heads=[False False  True  True False  True False  True False  True]\n",
      "Experiment9 : \t[0.21574922 0.18361023 0.67475036 0.68913584 0.19227689 0.21911914\n",
      " 0.72024272 0.23889847 0.79954991 0.76015082]\tNo.of Heads=[False  True False  True False  True  True False False False]\n",
      "Experiment10 : \t[0.68911292 0.92411707 0.67566889 0.65765295 0.77326708 0.70281495\n",
      " 0.54230359 0.61067701 0.6044009  0.63068277]\tNo.of Heads=[ True False  True False False False False False  True  True]\n",
      "\n",
      "\n"
     ]
    }
   ],
   "source": [
    "for i in range (1,11):\n",
    "    print(f\"Experiment{i} : \", end ='\\t')\n",
    "    for dice in [dicerolls]:\n",
    "        print(np.random.rand(10), end='\\t')\n",
    "        for heads in [np.random.rand(10)>0.5]:\n",
    "            print(f'No.of Heads={heads}', end='\\n')\n",
    "print('\\n')\n",
    "    "
   ]
  },
  {
   "cell_type": "code",
   "execution_count": null,
   "id": "6a31a73c-f1dc-475f-9875-376154d5ffce",
   "metadata": {},
   "outputs": [],
   "source": []
  }
 ],
 "metadata": {
  "kernelspec": {
   "display_name": "Python 3 (ipykernel)",
   "language": "python",
   "name": "python3"
  },
  "language_info": {
   "codemirror_mode": {
    "name": "ipython",
    "version": 3
   },
   "file_extension": ".py",
   "mimetype": "text/x-python",
   "name": "python",
   "nbconvert_exporter": "python",
   "pygments_lexer": "ipython3",
   "version": "3.12.3"
  },
  "toc": {
   "base_numbering": 1,
   "nav_menu": {},
   "number_sections": true,
   "sideBar": true,
   "skip_h1_title": false,
   "title_cell": "Table of Contents",
   "title_sidebar": "Contents",
   "toc_cell": false,
   "toc_position": {},
   "toc_section_display": true,
   "toc_window_display": false
  },
  "vscode": {
   "interpreter": {
    "hash": "31f2aee4e71d21fbe5cf8b01ff0e069b9275f58929596ceb00d14d90e3e16cd6"
   }
  }
 },
 "nbformat": 4,
 "nbformat_minor": 5
}
