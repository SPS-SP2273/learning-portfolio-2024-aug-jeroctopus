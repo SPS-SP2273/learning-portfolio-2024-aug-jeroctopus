{
 "cells": [
  {
   "attachments": {},
   "cell_type": "markdown",
   "id": "123456",
   "metadata": {},
   "source": [
    "<div style=\"text-align:left;font-size:2em\"><span style=\"font-weight:bolder;font-size:1.25em\">SP2273 | Learning Portfolio</span><br><br><span style=\"font-weight:bold;color:darkred\">Loops (Need) Exercises</span></div>"
   ]
  },
  {
   "cell_type": "code",
   "execution_count": 1,
   "id": "86bf0911-0c7b-4e18-8dfd-3c4160f529d2",
   "metadata": {},
   "outputs": [],
   "source": [
    "temperatures_celsius = [\n",
    "    0, 5, 10, 15, 20, 25,\n",
    "    30, 35, 40, 45, 50\n",
    "]"
   ]
  },
  {
   "cell_type": "code",
   "execution_count": 2,
   "id": "7698fcc6-9daf-4d74-a465-34c74d577e79",
   "metadata": {},
   "outputs": [],
   "source": [
    "import numpy as np\n"
   ]
  },
  {
   "cell_type": "code",
   "execution_count": 4,
   "id": "b66a6e5e-8608-491e-9773-6c9b69ee1146",
   "metadata": {},
   "outputs": [],
   "source": [
    "temp_celsius=np.array(temperatures_celsius)"
   ]
  },
  {
   "cell_type": "code",
   "execution_count": 18,
   "id": "0e3e9ff9-5828-416b-8b08-02d50e54edc6",
   "metadata": {},
   "outputs": [],
   "source": [
    "\n",
    "temp_farenheit=(temp_celsius*2+10)"
   ]
  },
  {
   "cell_type": "code",
   "execution_count": 19,
   "id": "4a475c33-e594-4015-a31e-89c21cfda792",
   "metadata": {},
   "outputs": [
    {
     "name": "stdout",
     "output_type": "stream",
     "text": [
      "[ 10  20  30  40  50  60  70  80  90 100 110]\n"
     ]
    }
   ],
   "source": [
    "print(temp_farenheit)"
   ]
  },
  {
   "cell_type": "code",
   "execution_count": 20,
   "id": "f1f4f07b-2aca-4092-b1a4-d084e0f35ee2",
   "metadata": {},
   "outputs": [
    {
     "name": "stdout",
     "output_type": "stream",
     "text": [
      "0 10\n",
      "5 20\n",
      "10 30\n",
      "15 40\n",
      "20 50\n",
      "25 60\n",
      "30 70\n",
      "35 80\n",
      "40 90\n",
      "45 100\n",
      "50 110\n"
     ]
    }
   ],
   "source": [
    "for index, celsius in enumerate(temp_celsius):\n",
    "    farenheit=temp_farenheit[index]\n",
    "    print(celsius,farenheit)\n"
   ]
  },
  {
   "cell_type": "code",
   "execution_count": 22,
   "id": "4ab078c1-8df3-4c65-bef4-5d31153ffddf",
   "metadata": {},
   "outputs": [
    {
     "name": "stdout",
     "output_type": "stream",
     "text": [
      "A1\tA2\tA3\t\n",
      "\n",
      "B1\tB2\tB3\t\n",
      "\n",
      "C1\tC2\tC3\t\n",
      "\n"
     ]
    }
   ],
   "source": [
    "for letter in ['A', 'B', 'C']:\n",
    "    for number in [1, 2, 3]:\n",
    "        print(f'{letter}{number}', end='\\t')\n",
    "    print('\\n')\n",
    "\n",
    " "
   ]
  },
  {
   "cell_type": "code",
   "execution_count": 66,
   "id": "f5ac33cf-42ec-4e7b-9736-c87984230c1e",
   "metadata": {},
   "outputs": [
    {
     "name": "stdout",
     "output_type": "stream",
     "text": [
      "1 : \t1\t2\t3\t4\t5\t\n",
      "\n",
      "2 : \t2\t4\t6\t8\t10\t\n",
      "\n",
      "3 : \t3\t6\t9\t12\t15\t\n",
      "\n",
      "4 : \t4\t8\t12\t16\t20\t\n",
      "\n",
      "5 : \t5\t10\t15\t20\t25\t\n",
      "\n"
     ]
    }
   ],
   "source": [
    "\n",
    "\n",
    " for i in range (1,6):\n",
    "     print(f\"{i} : \", end='\\t')\n",
    "     for j in range (1,6):\n",
    "          print(i*j, end ='\\t')\n",
    "     print('\\n')"
   ]
  },
  {
   "cell_type": "code",
   "execution_count": 74,
   "id": "08ebed78-8e7a-4f34-85ea-3508e8e5f029",
   "metadata": {},
   "outputs": [
    {
     "data": {
      "text/plain": [
       "array([0.8797613 , 0.76555271, 0.31186651, 0.64703074, 0.19571385,\n",
       "       0.51929088, 0.25821402, 0.15898631, 0.78225391, 0.85513872])"
      ]
     },
     "execution_count": 74,
     "metadata": {},
     "output_type": "execute_result"
    }
   ],
   "source": [
    "np.random.rand(10)"
   ]
  },
  {
   "cell_type": "code",
   "execution_count": 85,
   "id": "a06c4607-4ace-4980-b1fc-49e516e9c3e7",
   "metadata": {},
   "outputs": [],
   "source": [
    "dicerolls=np.random.rand(10)"
   ]
  },
  {
   "cell_type": "code",
   "execution_count": 142,
   "id": "c492529f-1815-46ab-916f-375aba6d0c75",
   "metadata": {},
   "outputs": [
    {
     "name": "stdout",
     "output_type": "stream",
     "text": [
      "Experiment 1:\tNo.of Heads=5\n",
      "Experiment 2:\tNo.of Heads=4\n",
      "Experiment 3:\tNo.of Heads=5\n",
      "Experiment 4:\tNo.of Heads=6\n",
      "Experiment 5:\tNo.of Heads=5\n",
      "Experiment 6:\tNo.of Heads=6\n",
      "Experiment 7:\tNo.of Heads=5\n",
      "Experiment 8:\tNo.of Heads=7\n",
      "Experiment 9:\tNo.of Heads=5\n",
      "Experiment 10:\tNo.of Heads=5\n",
      "\n",
      "\n"
     ]
    }
   ],
   "source": [
    "for i in range (1,11):\n",
    "    print(f\"Experiment {i}:\", end ='\\t')\n",
    "    for dice in [dicerolls]:\n",
    "        for heads in [np.sum(np.random.rand(10)>0.5)]:\n",
    "            print(f'No.of Heads={heads}', end='\\n')\n",
    "print('\\n')\n",
    "    "
   ]
  },
  {
   "cell_type": "code",
   "execution_count": null,
   "id": "713a8041-2495-4d6e-9f70-cbbc48634add",
   "metadata": {},
   "outputs": [],
   "source": []
  },
  {
   "cell_type": "code",
   "execution_count": null,
   "id": "0c5f7315-5054-4b32-9e5c-d9fccd7851fe",
   "metadata": {},
   "outputs": [],
   "source": []
  },
  {
   "cell_type": "code",
   "execution_count": null,
   "id": "d8a0af2f-f228-4d72-b209-b26d2300f350",
   "metadata": {},
   "outputs": [],
   "source": []
  }
 ],
 "metadata": {
  "kernelspec": {
   "display_name": "Python 3 (ipykernel)",
   "language": "python",
   "name": "python3"
  },
  "language_info": {
   "codemirror_mode": {
    "name": "ipython",
    "version": 3
   },
   "file_extension": ".py",
   "mimetype": "text/x-python",
   "name": "python",
   "nbconvert_exporter": "python",
   "pygments_lexer": "ipython3",
   "version": "3.12.3"
  },
  "toc": {
   "base_numbering": 1,
   "nav_menu": {},
   "number_sections": true,
   "sideBar": true,
   "skip_h1_title": false,
   "title_cell": "Table of Contents",
   "title_sidebar": "Contents",
   "toc_cell": false,
   "toc_position": {},
   "toc_section_display": true,
   "toc_window_display": false
  },
  "vscode": {
   "interpreter": {
    "hash": "31f2aee4e71d21fbe5cf8b01ff0e069b9275f58929596ceb00d14d90e3e16cd6"
   }
  }
 },
 "nbformat": 4,
 "nbformat_minor": 5
}
