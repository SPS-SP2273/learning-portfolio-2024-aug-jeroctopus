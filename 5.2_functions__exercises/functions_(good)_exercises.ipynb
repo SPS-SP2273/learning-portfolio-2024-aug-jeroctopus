{
 "cells": [
  {
   "attachments": {},
   "cell_type": "markdown",
   "id": "123456",
   "metadata": {},
   "source": [
    "<div style=\"text-align:left;font-size:2em\"><span style=\"font-weight:bolder;font-size:1.25em\">SP2273 | Learning Portfolio</span><br><br><span style=\"font-weight:bold;color:darkred\">Functions (Good) Exercises</span></div>"
   ]
  },
  {
   "cell_type": "code",
   "execution_count": 19,
   "id": "d97c8151-7330-4410-a2ad-496f4eebf4a0",
   "metadata": {},
   "outputs": [],
   "source": [
    "def convert_celsius(temperature_celsius,target_scale):\n",
    "  if target_scale == 'Kelvin':\n",
    "      return temperature_celsius+273.15\n",
    "  else:\n",
    "      return f'{temperature_celsius*1.8+32:.2f}'\n",
    "    "
   ]
  },
  {
   "cell_type": "code",
   "execution_count": 40,
   "id": "4676d073-03bd-4282-8291-1eedecd8d997",
   "metadata": {},
   "outputs": [
    {
     "data": {
      "text/plain": [
       "315.15"
      ]
     },
     "execution_count": 40,
     "metadata": {},
     "output_type": "execute_result"
    }
   ],
   "source": [
    "convert_celsius(42, 'Kelvin')\n",
    "\n"
   ]
  },
  {
   "cell_type": "code",
   "execution_count": 41,
   "id": "dd496fb7-7666-4b1c-a9b4-f4da625cf016",
   "metadata": {},
   "outputs": [
    {
     "data": {
      "text/plain": [
       "'107.60'"
      ]
     },
     "execution_count": 41,
     "metadata": {},
     "output_type": "execute_result"
    }
   ],
   "source": [
    "convert_celsius(42,'dfv')"
   ]
  },
  {
   "cell_type": "code",
   "execution_count": 34,
   "id": "1ea19a70-5848-4f12-84c2-060f22d2cd86",
   "metadata": {},
   "outputs": [],
   "source": [
    "def convert_fahrenheit(temperature_fahrenheit,target_scale):\n",
    "    if target_scale == 'Kelvin':\n",
    "        return f'{temperature_fahrenheit-32*5/9+273.15:.2f}'\n",
    "    else:\n",
    "        return f'{temperature_fahrenheit-32*5/9:.2f}'"
   ]
  },
  {
   "cell_type": "code",
   "execution_count": 37,
   "id": "bda96d2c-ee47-435c-891f-dc35f24d6747",
   "metadata": {},
   "outputs": [
    {
     "data": {
      "text/plain": [
       "'297.37'"
      ]
     },
     "execution_count": 37,
     "metadata": {},
     "output_type": "execute_result"
    }
   ],
   "source": [
    "convert_fahrenheit(42,'Kelvin')"
   ]
  },
  {
   "cell_type": "code",
   "execution_count": 38,
   "id": "bddfd164-48b9-4d83-bde2-386ac3e3fb1a",
   "metadata": {},
   "outputs": [
    {
     "data": {
      "text/plain": [
       "'24.22'"
      ]
     },
     "execution_count": 38,
     "metadata": {},
     "output_type": "execute_result"
    }
   ],
   "source": [
    "convert_fahrenheit(42,'ervf')"
   ]
  },
  {
   "cell_type": "code",
   "execution_count": 42,
   "id": "f8b87dd5-ba14-4a64-8de7-41c8fb00a93a",
   "metadata": {},
   "outputs": [],
   "source": [
    "def convert_kelvin(temperature_kelvin,target_scale):\n",
    "    if target_scale == 'Celsius':\n",
    "        return f'{temperature_kelvin-273.15:.2f}'\n",
    "    else:\n",
    "        return f'{temperature_kelvin-273.15*9/5+32:.2f}'"
   ]
  },
  {
   "cell_type": "code",
   "execution_count": null,
   "id": "1c88da25-f554-43df-a94a-6792a06d4a89",
   "metadata": {},
   "outputs": [],
   "source": []
  },
  {
   "cell_type": "code",
   "execution_count": 44,
   "id": "6b33b2db-6071-48e8-be79-64731b190693",
   "metadata": {},
   "outputs": [],
   "source": [
    "def convert_temperature(temperature,source_scale,target_scale):\n",
    "    if source_scale == 'Celsius':\n",
    "        return convert_celsius(temperature,target_scale)\n",
    "    elif source_scale == 'Fahrenheit':\n",
    "        return convert_fahrenheit(temperature,target_scale)\n",
    "    else:\n",
    "        return convert_kelvin(temperature,target_scale)\n",
    "    "
   ]
  },
  {
   "cell_type": "code",
   "execution_count": 45,
   "id": "d0109b05-cc82-4b9a-b8cc-4b03ab63c5a4",
   "metadata": {},
   "outputs": [
    {
     "data": {
      "text/plain": [
       "315.15"
      ]
     },
     "execution_count": 45,
     "metadata": {},
     "output_type": "execute_result"
    }
   ],
   "source": [
    "convert_temperature(42, 'Celsius','Kelvin')  "
   ]
  },
  {
   "cell_type": "code",
   "execution_count": 46,
   "id": "a9fba8f3-c15a-4f1c-b062-1645220b3f2e",
   "metadata": {},
   "outputs": [
    {
     "data": {
      "text/plain": [
       "'24.22'"
      ]
     },
     "execution_count": 46,
     "metadata": {},
     "output_type": "execute_result"
    }
   ],
   "source": [
    "convert_temperature(42, 'Fahrenheit', 'Celsius')"
   ]
  },
  {
   "cell_type": "code",
   "execution_count": null,
   "id": "64c5293e-bfac-4aca-9e83-c65bbca91df2",
   "metadata": {},
   "outputs": [],
   "source": []
  }
 ],
 "metadata": {
  "kernelspec": {
   "display_name": "Python 3 (ipykernel)",
   "language": "python",
   "name": "python3"
  },
  "language_info": {
   "codemirror_mode": {
    "name": "ipython",
    "version": 3
   },
   "file_extension": ".py",
   "mimetype": "text/x-python",
   "name": "python",
   "nbconvert_exporter": "python",
   "pygments_lexer": "ipython3",
   "version": "3.12.3"
  },
  "toc": {
   "base_numbering": 1,
   "nav_menu": {},
   "number_sections": true,
   "sideBar": true,
   "skip_h1_title": false,
   "title_cell": "Table of Contents",
   "title_sidebar": "Contents",
   "toc_cell": false,
   "toc_position": {},
   "toc_section_display": true,
   "toc_window_display": false
  },
  "vscode": {
   "interpreter": {
    "hash": "31f2aee4e71d21fbe5cf8b01ff0e069b9275f58929596ceb00d14d90e3e16cd6"
   }
  }
 },
 "nbformat": 4,
 "nbformat_minor": 5
}
