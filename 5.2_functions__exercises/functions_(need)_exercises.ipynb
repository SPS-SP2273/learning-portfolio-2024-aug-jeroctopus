{
 "cells": [
  {
   "attachments": {},
   "cell_type": "markdown",
   "id": "123456",
   "metadata": {},
   "source": [
    "<div style=\"text-align:left;font-size:2em\"><span style=\"font-weight:bolder;font-size:1.25em\">SP2273 | Learning Portfolio</span><br><br><span style=\"font-weight:bold;color:darkred\">Functions (Need) Exercises</span></div>"
   ]
  },
  {
   "cell_type": "code",
   "execution_count": 8,
   "id": "15a57070-b1b0-416a-84bb-3813cd1db98b",
   "metadata": {},
   "outputs": [],
   "source": [
    "def greeting(name):\n",
    "    if name == 'Batman':\n",
    "        return 'Hello Batman! So, nice to meet you!'\n",
    "    return f'Hello {name}!'"
   ]
  },
  {
   "cell_type": "markdown",
   "id": "6f671fca-766b-47ce-97fe-8277ad85ecb3",
   "metadata": {},
   "source": [
    "The 'else' statement is unnecessary as it does not need to consider other arguements.  The return statement acts as the else statement."
   ]
  },
  {
   "cell_type": "code",
   "execution_count": 23,
   "id": "5af1efbb-7283-4a94-a17e-475234ef23e5",
   "metadata": {},
   "outputs": [],
   "source": [
    "import numpy as np"
   ]
  },
  {
   "cell_type": "code",
   "execution_count": 58,
   "id": "f41ee4a0-42cf-4bef-8018-d34a274c4920",
   "metadata": {},
   "outputs": [
    {
     "name": "stdin",
     "output_type": "stream",
     "text": [
      "What is your weight in kg? 80\n",
      "What is your height in m? 1.9\n"
     ]
    },
    {
     "data": {
      "text/plain": [
       "'you are of normal weight'"
      ]
     },
     "execution_count": 58,
     "metadata": {},
     "output_type": "execute_result"
    }
   ],
   "source": [
    "weight=float(input('What is your weight in kg?'))\n",
    "height=float(input('What is your height in m?'))\n",
    "BMI= weight / (height ** 2)\n",
    "def calculate_bmi(BMI):\n",
    "    if BMI < 18.5:\n",
    "        return 'you are underweight'\n",
    "    elif 18.5<=BMI<=24.9:\n",
    "        return 'you are of normal weight'\n",
    "    elif 25<=BMI<=29.9:\n",
    "        return 'you are overweight'\n",
    "    else:\n",
    "        return 'you are obese'\n",
    "calculate_bmi(BMI)\n",
    "\n",
    "    \n",
    "    \n",
    "    "
   ]
  },
  {
   "cell_type": "code",
   "execution_count": 71,
   "id": "3d58e521-2bfc-4933-9a43-8309e73356db",
   "metadata": {},
   "outputs": [],
   "source": [
    "def factorial(n):\n",
    "    if n<0:\n",
    "        return 'Key in a valid input'\n",
    "    elif n==0 or n==1: \n",
    "        return 1\n",
    "    else:\n",
    "        result=1\n",
    "        for number in range (1,n+1):\n",
    "            result *= number\n",
    "        return result\n",
    "\n"
   ]
  },
  {
   "cell_type": "code",
   "execution_count": 72,
   "id": "200bda33-34d6-4c3f-ac26-147ede4c0551",
   "metadata": {},
   "outputs": [
    {
     "data": {
      "text/plain": [
       "120"
      ]
     },
     "execution_count": 72,
     "metadata": {},
     "output_type": "execute_result"
    }
   ],
   "source": [
    "factorial(5)\n"
   ]
  },
  {
   "cell_type": "code",
   "execution_count": null,
   "id": "41faa271-437c-403a-a5b8-1fecb0fbd8e2",
   "metadata": {},
   "outputs": [],
   "source": []
  }
 ],
 "metadata": {
  "kernelspec": {
   "display_name": "Python 3 (ipykernel)",
   "language": "python",
   "name": "python3"
  },
  "language_info": {
   "codemirror_mode": {
    "name": "ipython",
    "version": 3
   },
   "file_extension": ".py",
   "mimetype": "text/x-python",
   "name": "python",
   "nbconvert_exporter": "python",
   "pygments_lexer": "ipython3",
   "version": "3.12.3"
  },
  "toc": {
   "base_numbering": 1,
   "nav_menu": {},
   "number_sections": true,
   "sideBar": true,
   "skip_h1_title": false,
   "title_cell": "Table of Contents",
   "title_sidebar": "Contents",
   "toc_cell": false,
   "toc_position": {},
   "toc_section_display": true,
   "toc_window_display": false
  },
  "vscode": {
   "interpreter": {
    "hash": "31f2aee4e71d21fbe5cf8b01ff0e069b9275f58929596ceb00d14d90e3e16cd6"
   }
  }
 },
 "nbformat": 4,
 "nbformat_minor": 5
}
