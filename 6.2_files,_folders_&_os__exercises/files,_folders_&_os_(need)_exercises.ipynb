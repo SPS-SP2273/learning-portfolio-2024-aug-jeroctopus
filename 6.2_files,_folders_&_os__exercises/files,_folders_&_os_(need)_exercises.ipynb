{
 "cells": [
  {
   "attachments": {},
   "cell_type": "markdown",
   "id": "123456",
   "metadata": {},
   "source": [
    "<div style=\"text-align:left;font-size:2em\"><span style=\"font-weight:bolder;font-size:1.25em\">SP2273 | Learning Portfolio</span><br><br><span style=\"font-weight:bold;color:darkred\">Files, Folders & OS (Need) Exercises</span></div>"
   ]
  },
  {
   "cell_type": "code",
   "execution_count": 7,
   "id": "eaa87377-d741-4da6-8fd0-3dc128925d69",
   "metadata": {},
   "outputs": [],
   "source": [
    "month_number={\n",
    "'jan': '01', 'feb': '02', 'mar': '03',\n",
    "'apr': '04', 'may': '05', 'jun': '06',\n",
    "'jul': '07', 'aug': '08', 'sep': '09',\n",
    "'oct': '10', 'nov': '11', 'dec': '12'\n",
    "}"
   ]
  },
  {
   "cell_type": "code",
   "execution_count": 8,
   "id": "a31f44de-8d76-4fe7-bd10-27c469066cb0",
   "metadata": {},
   "outputs": [],
   "source": [
    "import numpy as np"
   ]
  },
  {
   "cell_type": "code",
   "execution_count": 9,
   "id": "d57d64ae-026b-4b63-8f15-229406644ed2",
   "metadata": {},
   "outputs": [],
   "source": [
    "import os\n",
    "import glob\n",
    "import shutil\n"
   ]
  },
  {
   "cell_type": "code",
   "execution_count": 10,
   "id": "7fe66229-0de1-4972-8a96-1a3436b1924a",
   "metadata": {},
   "outputs": [
    {
     "data": {
      "text/plain": [
       "'04'"
      ]
     },
     "execution_count": 10,
     "metadata": {},
     "output_type": "execute_result"
    }
   ],
   "source": [
    "month_number['apr']"
   ]
  },
  {
   "cell_type": "code",
   "execution_count": 11,
   "id": "e67bd1b2-3925-4c6f-87e1-62df870cbfdd",
   "metadata": {},
   "outputs": [
    {
     "data": {
      "text/plain": [
       "'10'"
      ]
     },
     "execution_count": 11,
     "metadata": {},
     "output_type": "execute_result"
    }
   ],
   "source": [
    "month_number[\"oct\"]  #Using the function of dictionary key"
   ]
  },
  {
   "cell_type": "code",
   "execution_count": 29,
   "id": "57549701-5466-4962-9512-a17860e52df0",
   "metadata": {},
   "outputs": [],
   "source": [
    "old_file_name= 'oct-08_singapore.txt'\n",
    "new_file_name= f'{month_number[\"oct\"]}{old_file_name[3:]}'\n"
   ]
  },
  {
   "cell_type": "code",
   "execution_count": 30,
   "id": "91318f31-0924-4689-8455-4f584f2d93b4",
   "metadata": {},
   "outputs": [
    {
     "name": "stdout",
     "output_type": "stream",
     "text": [
      "10-08_singapore.txt\n"
     ]
    }
   ],
   "source": [
    "print(new_file_name)"
   ]
  },
  {
   "cell_type": "code",
   "execution_count": null,
   "id": "b6d0d1b1-8a33-4059-8079-cce1bb2ed656",
   "metadata": {},
   "outputs": [],
   "source": []
  },
  {
   "cell_type": "code",
   "execution_count": 32,
   "id": "09c0fba9-64db-43ba-8cff-04c9a92d1357",
   "metadata": {},
   "outputs": [],
   "source": [
    "old_file_name = f'{\"mth\"}{old_file_name[3:]}'   #I used mth instead of month to match up with the 3 character short form used for the months"
   ]
  },
  {
   "cell_type": "code",
   "execution_count": 33,
   "id": "5c6b7c63-056f-43d5-b108-f0295b2dab38",
   "metadata": {},
   "outputs": [
    {
     "data": {
      "text/plain": [
       "'10-08_singapore.txt'"
      ]
     },
     "execution_count": 33,
     "metadata": {},
     "output_type": "execute_result"
    }
   ],
   "source": [
    "def rename_my_file(old_file_name):\n",
    "    for mth in month_number:\n",
    "        if mth == old_file_name[0:3]:  #Strings can be seen as arrays of characters\n",
    "            return f\"{month_number[mth]}{old_file_name[3:]}\"  # old_file_name[3:] gives me the -date_city,txt\n",
    "\n",
    "rename_my_file(\"oct-08_singapore.txt\")"
   ]
  },
  {
   "cell_type": "code",
   "execution_count": 34,
   "id": "aeece37d-c0b4-416e-abe4-1bb53bcb32ae",
   "metadata": {},
   "outputs": [
    {
     "data": {
      "text/plain": [
       "'05-15_dhaka.txt'"
      ]
     },
     "execution_count": 34,
     "metadata": {},
     "output_type": "execute_result"
    }
   ],
   "source": [
    "rename_my_file(\"may-15_dhaka.txt\")"
   ]
  },
  {
   "cell_type": "code",
   "execution_count": 35,
   "id": "4f2de195-e3b6-4ccd-aa80-b609a0cc54f8",
   "metadata": {},
   "outputs": [],
   "source": [
    "dates=['oct-08_singapore.txt', 'jul-10_cairo.txt', 'may-15_dhaka.txt',\n",
    " 'may-13_cairo.txt', 'oct-21_cairo.txt', 'jan-10_singapore.txt',\n",
    " 'jun-20_tokyo.txt', 'aug-06_jakarta.txt', 'dec-21_karachi.txt',\n",
    " 'jan-01_tokyo.txt']"
   ]
  },
  {
   "cell_type": "code",
   "execution_count": 36,
   "id": "efd2bcb2-5425-461c-a238-6145ec846f8f",
   "metadata": {},
   "outputs": [
    {
     "name": "stdout",
     "output_type": "stream",
     "text": [
      "oct-08_singapore.txt ---->\t10-08_singapore.txt\n",
      "jul-10_cairo.txt ---->\t07-10_cairo.txt\n",
      "may-15_dhaka.txt ---->\t05-15_dhaka.txt\n",
      "may-13_cairo.txt ---->\t05-13_cairo.txt\n",
      "oct-21_cairo.txt ---->\t10-21_cairo.txt\n",
      "jan-10_singapore.txt ---->\t01-10_singapore.txt\n",
      "jun-20_tokyo.txt ---->\t06-20_tokyo.txt\n",
      "aug-06_jakarta.txt ---->\t08-06_jakarta.txt\n",
      "dec-21_karachi.txt ---->\t12-21_karachi.txt\n",
      "jan-01_tokyo.txt ---->\t01-01_tokyo.txt\n"
     ]
    }
   ],
   "source": [
    "for date in dates:\n",
    "    print(f\"{date} ---->\", end='\\t')\n",
    "    print((rename_my_file(date)))\n",
    "  "
   ]
  },
  {
   "cell_type": "code",
   "execution_count": 37,
   "id": "f49baee4-fad7-4f12-b56e-18980002e7d0",
   "metadata": {},
   "outputs": [
    {
     "data": {
      "text/plain": [
       "['os-collaboration-exercise-data\\\\apr-01_melbourne.txt',\n",
       " 'os-collaboration-exercise-data\\\\apr-03_tokyo.txt',\n",
       " 'os-collaboration-exercise-data\\\\apr-06_manila.txt',\n",
       " 'os-collaboration-exercise-data\\\\apr-07_manila.txt',\n",
       " 'os-collaboration-exercise-data\\\\apr-07_singapore.txt',\n",
       " 'os-collaboration-exercise-data\\\\apr-11_melbourne.txt',\n",
       " 'os-collaboration-exercise-data\\\\apr-12_karachi.txt',\n",
       " 'os-collaboration-exercise-data\\\\apr-12_osaka.txt',\n",
       " 'os-collaboration-exercise-data\\\\apr-15_cairo.txt',\n",
       " 'os-collaboration-exercise-data\\\\apr-16_jakarta.txt',\n",
       " 'os-collaboration-exercise-data\\\\apr-18_tokyo.txt',\n",
       " 'os-collaboration-exercise-data\\\\apr-20_tokyo.txt',\n",
       " 'os-collaboration-exercise-data\\\\apr-21_jakarta.txt',\n",
       " 'os-collaboration-exercise-data\\\\apr-23_osaka.txt',\n",
       " 'os-collaboration-exercise-data\\\\apr-23_singapore.txt',\n",
       " 'os-collaboration-exercise-data\\\\apr-24_manila.txt',\n",
       " 'os-collaboration-exercise-data\\\\apr-26_singapore.txt',\n",
       " 'os-collaboration-exercise-data\\\\apr-29_manila.txt',\n",
       " 'os-collaboration-exercise-data\\\\apr-29_melbourne.txt',\n",
       " 'os-collaboration-exercise-data\\\\aug-02_osaka.txt',\n",
       " 'os-collaboration-exercise-data\\\\aug-03_melbourne.txt',\n",
       " 'os-collaboration-exercise-data\\\\aug-05_jakarta.txt',\n",
       " 'os-collaboration-exercise-data\\\\aug-05_manila.txt',\n",
       " 'os-collaboration-exercise-data\\\\aug-08_singapore.txt',\n",
       " 'os-collaboration-exercise-data\\\\aug-09_dhaka.txt',\n",
       " 'os-collaboration-exercise-data\\\\aug-09_jakarta.txt',\n",
       " 'os-collaboration-exercise-data\\\\aug-13_shanghai.txt',\n",
       " 'os-collaboration-exercise-data\\\\aug-14_karachi.txt',\n",
       " 'os-collaboration-exercise-data\\\\aug-16_shanghai.txt',\n",
       " 'os-collaboration-exercise-data\\\\aug-19_karachi.txt',\n",
       " 'os-collaboration-exercise-data\\\\aug-19_osaka.txt',\n",
       " 'os-collaboration-exercise-data\\\\aug-19_shanghai.txt',\n",
       " 'os-collaboration-exercise-data\\\\aug-21_jakarta.txt',\n",
       " 'os-collaboration-exercise-data\\\\aug-22_manila.txt',\n",
       " 'os-collaboration-exercise-data\\\\aug-25_cairo.txt',\n",
       " 'os-collaboration-exercise-data\\\\aug-25_osaka.txt',\n",
       " 'os-collaboration-exercise-data\\\\aug-26_cairo.txt',\n",
       " 'os-collaboration-exercise-data\\\\aug-26_jakarta.txt',\n",
       " 'os-collaboration-exercise-data\\\\dec-03_dhaka.txt',\n",
       " 'os-collaboration-exercise-data\\\\dec-04_dhaka.txt',\n",
       " 'os-collaboration-exercise-data\\\\dec-05_shanghai.txt',\n",
       " 'os-collaboration-exercise-data\\\\dec-05_singapore.txt',\n",
       " 'os-collaboration-exercise-data\\\\dec-06_tokyo.txt',\n",
       " 'os-collaboration-exercise-data\\\\dec-09_tokyo.txt',\n",
       " 'os-collaboration-exercise-data\\\\dec-10_tokyo.txt',\n",
       " 'os-collaboration-exercise-data\\\\dec-11_dhaka.txt',\n",
       " 'os-collaboration-exercise-data\\\\dec-11_jakarta.txt',\n",
       " 'os-collaboration-exercise-data\\\\dec-17_shanghai.txt',\n",
       " 'os-collaboration-exercise-data\\\\dec-18_cairo.txt',\n",
       " 'os-collaboration-exercise-data\\\\dec-18_dhaka.txt',\n",
       " 'os-collaboration-exercise-data\\\\dec-19_shanghai.txt',\n",
       " 'os-collaboration-exercise-data\\\\dec-21_osaka.txt',\n",
       " 'os-collaboration-exercise-data\\\\dec-26_cairo.txt',\n",
       " 'os-collaboration-exercise-data\\\\dec-26_jakarta.txt',\n",
       " 'os-collaboration-exercise-data\\\\dec-29_singapore.txt',\n",
       " 'os-collaboration-exercise-data\\\\feb-01_osaka.txt',\n",
       " 'os-collaboration-exercise-data\\\\feb-02_singapore.txt',\n",
       " 'os-collaboration-exercise-data\\\\feb-04_jakarta.txt',\n",
       " 'os-collaboration-exercise-data\\\\feb-06_karachi.txt',\n",
       " 'os-collaboration-exercise-data\\\\feb-09_manila.txt',\n",
       " 'os-collaboration-exercise-data\\\\feb-09_tokyo.txt',\n",
       " 'os-collaboration-exercise-data\\\\feb-10_osaka.txt',\n",
       " 'os-collaboration-exercise-data\\\\feb-12_dhaka.txt',\n",
       " 'os-collaboration-exercise-data\\\\feb-13_tokyo.txt',\n",
       " 'os-collaboration-exercise-data\\\\feb-17_karachi.txt',\n",
       " 'os-collaboration-exercise-data\\\\feb-18_shanghai.txt',\n",
       " 'os-collaboration-exercise-data\\\\feb-19_tokyo.txt',\n",
       " 'os-collaboration-exercise-data\\\\feb-20_cairo.txt',\n",
       " 'os-collaboration-exercise-data\\\\feb-20_singapore.txt',\n",
       " 'os-collaboration-exercise-data\\\\feb-24_manila.txt',\n",
       " 'os-collaboration-exercise-data\\\\feb-24_tokyo.txt',\n",
       " 'os-collaboration-exercise-data\\\\jan-01_manila.txt',\n",
       " 'os-collaboration-exercise-data\\\\jan-04_cairo.txt',\n",
       " 'os-collaboration-exercise-data\\\\jan-11_melbourne.txt',\n",
       " 'os-collaboration-exercise-data\\\\jan-16_cairo.txt',\n",
       " 'os-collaboration-exercise-data\\\\jan-16_jakarta.txt',\n",
       " 'os-collaboration-exercise-data\\\\jan-18_karachi.txt',\n",
       " 'os-collaboration-exercise-data\\\\jan-20_cairo.txt',\n",
       " 'os-collaboration-exercise-data\\\\jan-20_tokyo.txt',\n",
       " 'os-collaboration-exercise-data\\\\jan-22_osaka.txt',\n",
       " 'os-collaboration-exercise-data\\\\jan-24_manila.txt',\n",
       " 'os-collaboration-exercise-data\\\\jan-24_melbourne.txt',\n",
       " 'os-collaboration-exercise-data\\\\jan-25_osaka.txt',\n",
       " 'os-collaboration-exercise-data\\\\jan-26_jakarta.txt',\n",
       " 'os-collaboration-exercise-data\\\\jan-26_manila.txt',\n",
       " 'os-collaboration-exercise-data\\\\jul-01_karachi.txt',\n",
       " 'os-collaboration-exercise-data\\\\jul-03_melbourne.txt',\n",
       " 'os-collaboration-exercise-data\\\\jul-03_shanghai.txt',\n",
       " 'os-collaboration-exercise-data\\\\jul-04_cairo.txt',\n",
       " 'os-collaboration-exercise-data\\\\jul-04_karachi.txt',\n",
       " 'os-collaboration-exercise-data\\\\jul-06_melbourne.txt',\n",
       " 'os-collaboration-exercise-data\\\\jul-06_osaka.txt',\n",
       " 'os-collaboration-exercise-data\\\\jul-07_manila.txt',\n",
       " 'os-collaboration-exercise-data\\\\jul-07_melbourne.txt',\n",
       " 'os-collaboration-exercise-data\\\\jul-10_dhaka.txt',\n",
       " 'os-collaboration-exercise-data\\\\jul-10_tokyo.txt',\n",
       " 'os-collaboration-exercise-data\\\\jul-13_osaka.txt',\n",
       " 'os-collaboration-exercise-data\\\\jul-17_singapore.txt',\n",
       " 'os-collaboration-exercise-data\\\\jul-18_jakarta.txt',\n",
       " 'os-collaboration-exercise-data\\\\jul-19_tokyo.txt',\n",
       " 'os-collaboration-exercise-data\\\\jul-28_jakarta.txt',\n",
       " 'os-collaboration-exercise-data\\\\jul-28_manila.txt',\n",
       " 'os-collaboration-exercise-data\\\\jul-28_tokyo.txt',\n",
       " 'os-collaboration-exercise-data\\\\jul-29_tokyo.txt',\n",
       " 'os-collaboration-exercise-data\\\\jun-04_jakarta.txt',\n",
       " 'os-collaboration-exercise-data\\\\jun-05_manila.txt',\n",
       " 'os-collaboration-exercise-data\\\\jun-10_jakarta.txt',\n",
       " 'os-collaboration-exercise-data\\\\jun-11_tokyo.txt',\n",
       " 'os-collaboration-exercise-data\\\\jun-12_karachi.txt',\n",
       " 'os-collaboration-exercise-data\\\\jun-16_melbourne.txt',\n",
       " 'os-collaboration-exercise-data\\\\jun-17_manila.txt',\n",
       " 'os-collaboration-exercise-data\\\\jun-18_karachi.txt',\n",
       " 'os-collaboration-exercise-data\\\\jun-18_tokyo.txt',\n",
       " 'os-collaboration-exercise-data\\\\jun-20_manila.txt',\n",
       " 'os-collaboration-exercise-data\\\\jun-22_jakarta.txt',\n",
       " 'os-collaboration-exercise-data\\\\jun-25_manila.txt',\n",
       " 'os-collaboration-exercise-data\\\\jun-28_jakarta.txt',\n",
       " 'os-collaboration-exercise-data\\\\jun-29_karachi.txt',\n",
       " 'os-collaboration-exercise-data\\\\jun-29_tokyo.txt',\n",
       " 'os-collaboration-exercise-data\\\\mar-04_osaka.txt',\n",
       " 'os-collaboration-exercise-data\\\\mar-09_manila.txt',\n",
       " 'os-collaboration-exercise-data\\\\mar-10_manila.txt',\n",
       " 'os-collaboration-exercise-data\\\\mar-13_manila.txt',\n",
       " 'os-collaboration-exercise-data\\\\mar-14_cairo.txt',\n",
       " 'os-collaboration-exercise-data\\\\mar-16_manila.txt',\n",
       " 'os-collaboration-exercise-data\\\\mar-18_manila.txt',\n",
       " 'os-collaboration-exercise-data\\\\mar-24_manila.txt',\n",
       " 'os-collaboration-exercise-data\\\\may-04_dhaka.txt',\n",
       " 'os-collaboration-exercise-data\\\\may-05_karachi.txt',\n",
       " 'os-collaboration-exercise-data\\\\may-05_melbourne.txt',\n",
       " 'os-collaboration-exercise-data\\\\may-08_jakarta.txt',\n",
       " 'os-collaboration-exercise-data\\\\may-08_tokyo.txt',\n",
       " 'os-collaboration-exercise-data\\\\may-10_dhaka.txt',\n",
       " 'os-collaboration-exercise-data\\\\may-12_cairo.txt',\n",
       " 'os-collaboration-exercise-data\\\\may-12_singapore.txt',\n",
       " 'os-collaboration-exercise-data\\\\may-20_karachi.txt',\n",
       " 'os-collaboration-exercise-data\\\\may-24_melbourne.txt',\n",
       " 'os-collaboration-exercise-data\\\\may-26_dhaka.txt',\n",
       " 'os-collaboration-exercise-data\\\\may-26_karachi.txt',\n",
       " 'os-collaboration-exercise-data\\\\may-26_melbourne.txt',\n",
       " 'os-collaboration-exercise-data\\\\may-26_shanghai.txt',\n",
       " 'os-collaboration-exercise-data\\\\may-27_melbourne.txt',\n",
       " 'os-collaboration-exercise-data\\\\may-28_shanghai.txt',\n",
       " 'os-collaboration-exercise-data\\\\may-29_cairo.txt',\n",
       " 'os-collaboration-exercise-data\\\\may-30_singapore.txt',\n",
       " 'os-collaboration-exercise-data\\\\may-30_tokyo.txt',\n",
       " 'os-collaboration-exercise-data\\\\nov-03_dhaka.txt',\n",
       " 'os-collaboration-exercise-data\\\\nov-03_tokyo.txt',\n",
       " 'os-collaboration-exercise-data\\\\nov-04_dhaka.txt',\n",
       " 'os-collaboration-exercise-data\\\\nov-09_karachi.txt',\n",
       " 'os-collaboration-exercise-data\\\\nov-10_cairo.txt',\n",
       " 'os-collaboration-exercise-data\\\\nov-11_singapore.txt',\n",
       " 'os-collaboration-exercise-data\\\\nov-14_karachi.txt',\n",
       " 'os-collaboration-exercise-data\\\\nov-17_cairo.txt',\n",
       " 'os-collaboration-exercise-data\\\\nov-20_melbourne.txt',\n",
       " 'os-collaboration-exercise-data\\\\nov-25_karachi.txt',\n",
       " 'os-collaboration-exercise-data\\\\nov-25_osaka.txt',\n",
       " 'os-collaboration-exercise-data\\\\nov-28_dhaka.txt',\n",
       " 'os-collaboration-exercise-data\\\\oct-01_dhaka.txt',\n",
       " 'os-collaboration-exercise-data\\\\oct-02_shanghai.txt',\n",
       " 'os-collaboration-exercise-data\\\\oct-06_melbourne.txt',\n",
       " 'os-collaboration-exercise-data\\\\oct-07_shanghai.txt',\n",
       " 'os-collaboration-exercise-data\\\\oct-08_shanghai.txt',\n",
       " 'os-collaboration-exercise-data\\\\oct-12_singapore.txt',\n",
       " 'os-collaboration-exercise-data\\\\oct-13_singapore.txt',\n",
       " 'os-collaboration-exercise-data\\\\oct-16_shanghai.txt',\n",
       " 'os-collaboration-exercise-data\\\\oct-19_karachi.txt',\n",
       " 'os-collaboration-exercise-data\\\\oct-19_melbourne.txt',\n",
       " 'os-collaboration-exercise-data\\\\oct-19_singapore.txt',\n",
       " 'os-collaboration-exercise-data\\\\sep-01_manila.txt',\n",
       " 'os-collaboration-exercise-data\\\\sep-01_melbourne.txt',\n",
       " 'os-collaboration-exercise-data\\\\sep-02_tokyo.txt',\n",
       " 'os-collaboration-exercise-data\\\\sep-04_shanghai.txt',\n",
       " 'os-collaboration-exercise-data\\\\sep-05_tokyo.txt',\n",
       " 'os-collaboration-exercise-data\\\\sep-07_tokyo.txt',\n",
       " 'os-collaboration-exercise-data\\\\sep-09_melbourne.txt',\n",
       " 'os-collaboration-exercise-data\\\\sep-11_jakarta.txt',\n",
       " 'os-collaboration-exercise-data\\\\sep-11_singapore.txt',\n",
       " 'os-collaboration-exercise-data\\\\sep-13_cairo.txt',\n",
       " 'os-collaboration-exercise-data\\\\sep-14_osaka.txt',\n",
       " 'os-collaboration-exercise-data\\\\sep-15_jakarta.txt',\n",
       " 'os-collaboration-exercise-data\\\\sep-15_osaka.txt',\n",
       " 'os-collaboration-exercise-data\\\\sep-16_osaka.txt',\n",
       " 'os-collaboration-exercise-data\\\\sep-17_tokyo.txt',\n",
       " 'os-collaboration-exercise-data\\\\sep-19_melbourne.txt',\n",
       " 'os-collaboration-exercise-data\\\\sep-19_osaka.txt',\n",
       " 'os-collaboration-exercise-data\\\\sep-20_cairo.txt',\n",
       " 'os-collaboration-exercise-data\\\\sep-20_jakarta.txt',\n",
       " 'os-collaboration-exercise-data\\\\sep-20_tokyo.txt',\n",
       " 'os-collaboration-exercise-data\\\\sep-21_tokyo.txt',\n",
       " 'os-collaboration-exercise-data\\\\sep-22_cairo.txt',\n",
       " 'os-collaboration-exercise-data\\\\sep-23_cairo.txt',\n",
       " 'os-collaboration-exercise-data\\\\sep-24_cairo.txt',\n",
       " 'os-collaboration-exercise-data\\\\sep-24_jakarta.txt',\n",
       " 'os-collaboration-exercise-data\\\\sep-24_osaka.txt',\n",
       " 'os-collaboration-exercise-data\\\\sep-26_karachi.txt',\n",
       " 'os-collaboration-exercise-data\\\\sep-29_jakarta.txt',\n",
       " 'os-collaboration-exercise-data\\\\sep-29_osaka.txt']"
      ]
     },
     "execution_count": 37,
     "metadata": {},
     "output_type": "execute_result"
    }
   ],
   "source": [
    "glob.glob('**/*.txt')"
   ]
  },
  {
   "cell_type": "code",
   "execution_count": 45,
   "id": "2cbfe108-05fc-48db-94d5-71a3100a5cb9",
   "metadata": {},
   "outputs": [
    {
     "name": "stdout",
     "output_type": "stream",
     "text": [
      "apr-01_melbourne.txt\n",
      "apr-03_tokyo.txt\n",
      "apr-06_manila.txt\n",
      "apr-07_manila.txt\n",
      "apr-07_singapore.txt\n",
      "apr-11_melbourne.txt\n",
      "apr-12_karachi.txt\n",
      "apr-12_osaka.txt\n",
      "apr-15_cairo.txt\n",
      "apr-16_jakarta.txt\n",
      "apr-18_tokyo.txt\n",
      "apr-20_tokyo.txt\n",
      "apr-21_jakarta.txt\n",
      "apr-23_osaka.txt\n",
      "apr-23_singapore.txt\n",
      "apr-24_manila.txt\n",
      "apr-26_singapore.txt\n",
      "apr-29_manila.txt\n",
      "apr-29_melbourne.txt\n",
      "aug-02_osaka.txt\n",
      "aug-03_melbourne.txt\n",
      "aug-05_jakarta.txt\n",
      "aug-05_manila.txt\n",
      "aug-08_singapore.txt\n",
      "aug-09_dhaka.txt\n",
      "aug-09_jakarta.txt\n",
      "aug-13_shanghai.txt\n",
      "aug-14_karachi.txt\n",
      "aug-16_shanghai.txt\n",
      "aug-19_karachi.txt\n",
      "aug-19_osaka.txt\n",
      "aug-19_shanghai.txt\n",
      "aug-21_jakarta.txt\n",
      "aug-22_manila.txt\n",
      "aug-25_cairo.txt\n",
      "aug-25_osaka.txt\n",
      "aug-26_cairo.txt\n",
      "aug-26_jakarta.txt\n",
      "dec-03_dhaka.txt\n",
      "dec-04_dhaka.txt\n",
      "dec-05_shanghai.txt\n",
      "dec-05_singapore.txt\n",
      "dec-06_tokyo.txt\n",
      "dec-09_tokyo.txt\n",
      "dec-10_tokyo.txt\n",
      "dec-11_dhaka.txt\n",
      "dec-11_jakarta.txt\n",
      "dec-17_shanghai.txt\n",
      "dec-18_cairo.txt\n",
      "dec-18_dhaka.txt\n",
      "dec-19_shanghai.txt\n",
      "dec-21_osaka.txt\n",
      "dec-26_cairo.txt\n",
      "dec-26_jakarta.txt\n",
      "dec-29_singapore.txt\n",
      "feb-01_osaka.txt\n",
      "feb-02_singapore.txt\n",
      "feb-04_jakarta.txt\n",
      "feb-06_karachi.txt\n",
      "feb-09_manila.txt\n",
      "feb-09_tokyo.txt\n",
      "feb-10_osaka.txt\n",
      "feb-12_dhaka.txt\n",
      "feb-13_tokyo.txt\n",
      "feb-17_karachi.txt\n",
      "feb-18_shanghai.txt\n",
      "feb-19_tokyo.txt\n",
      "feb-20_cairo.txt\n",
      "feb-20_singapore.txt\n",
      "feb-24_manila.txt\n",
      "feb-24_tokyo.txt\n",
      "jan-01_manila.txt\n",
      "jan-04_cairo.txt\n",
      "jan-11_melbourne.txt\n",
      "jan-16_cairo.txt\n",
      "jan-16_jakarta.txt\n",
      "jan-18_karachi.txt\n",
      "jan-20_cairo.txt\n",
      "jan-20_tokyo.txt\n",
      "jan-22_osaka.txt\n",
      "jan-24_manila.txt\n",
      "jan-24_melbourne.txt\n",
      "jan-25_osaka.txt\n",
      "jan-26_jakarta.txt\n",
      "jan-26_manila.txt\n",
      "jul-01_karachi.txt\n",
      "jul-03_melbourne.txt\n",
      "jul-03_shanghai.txt\n",
      "jul-04_cairo.txt\n",
      "jul-04_karachi.txt\n",
      "jul-06_melbourne.txt\n",
      "jul-06_osaka.txt\n",
      "jul-07_manila.txt\n",
      "jul-07_melbourne.txt\n",
      "jul-10_dhaka.txt\n",
      "jul-10_tokyo.txt\n",
      "jul-13_osaka.txt\n",
      "jul-17_singapore.txt\n",
      "jul-18_jakarta.txt\n",
      "jul-19_tokyo.txt\n",
      "jul-28_jakarta.txt\n",
      "jul-28_manila.txt\n",
      "jul-28_tokyo.txt\n",
      "jul-29_tokyo.txt\n",
      "jun-04_jakarta.txt\n",
      "jun-05_manila.txt\n",
      "jun-10_jakarta.txt\n",
      "jun-11_tokyo.txt\n",
      "jun-12_karachi.txt\n",
      "jun-16_melbourne.txt\n",
      "jun-17_manila.txt\n",
      "jun-18_karachi.txt\n",
      "jun-18_tokyo.txt\n",
      "jun-20_manila.txt\n",
      "jun-22_jakarta.txt\n",
      "jun-25_manila.txt\n",
      "jun-28_jakarta.txt\n",
      "jun-29_karachi.txt\n",
      "jun-29_tokyo.txt\n",
      "mar-04_osaka.txt\n",
      "mar-09_manila.txt\n",
      "mar-10_manila.txt\n",
      "mar-13_manila.txt\n",
      "mar-14_cairo.txt\n",
      "mar-16_manila.txt\n",
      "mar-18_manila.txt\n",
      "mar-24_manila.txt\n",
      "may-04_dhaka.txt\n",
      "may-05_karachi.txt\n",
      "may-05_melbourne.txt\n",
      "may-08_jakarta.txt\n",
      "may-08_tokyo.txt\n",
      "may-10_dhaka.txt\n",
      "may-12_cairo.txt\n",
      "may-12_singapore.txt\n",
      "may-20_karachi.txt\n",
      "may-24_melbourne.txt\n",
      "may-26_dhaka.txt\n",
      "may-26_karachi.txt\n",
      "may-26_melbourne.txt\n",
      "may-26_shanghai.txt\n",
      "may-27_melbourne.txt\n",
      "may-28_shanghai.txt\n",
      "may-29_cairo.txt\n",
      "may-30_singapore.txt\n",
      "may-30_tokyo.txt\n",
      "nov-03_dhaka.txt\n",
      "nov-03_tokyo.txt\n",
      "nov-04_dhaka.txt\n",
      "nov-09_karachi.txt\n",
      "nov-10_cairo.txt\n",
      "nov-11_singapore.txt\n",
      "nov-14_karachi.txt\n",
      "nov-17_cairo.txt\n",
      "nov-20_melbourne.txt\n",
      "nov-25_karachi.txt\n",
      "nov-25_osaka.txt\n",
      "nov-28_dhaka.txt\n",
      "oct-01_dhaka.txt\n",
      "oct-02_shanghai.txt\n",
      "oct-06_melbourne.txt\n",
      "oct-07_shanghai.txt\n",
      "oct-08_shanghai.txt\n",
      "oct-12_singapore.txt\n",
      "oct-13_singapore.txt\n",
      "oct-16_shanghai.txt\n",
      "oct-19_karachi.txt\n",
      "oct-19_melbourne.txt\n",
      "oct-19_singapore.txt\n",
      "sep-01_manila.txt\n",
      "sep-01_melbourne.txt\n",
      "sep-02_tokyo.txt\n",
      "sep-04_shanghai.txt\n",
      "sep-05_tokyo.txt\n",
      "sep-07_tokyo.txt\n",
      "sep-09_melbourne.txt\n",
      "sep-11_jakarta.txt\n",
      "sep-11_singapore.txt\n",
      "sep-13_cairo.txt\n",
      "sep-14_osaka.txt\n",
      "sep-15_jakarta.txt\n",
      "sep-15_osaka.txt\n",
      "sep-16_osaka.txt\n",
      "sep-17_tokyo.txt\n",
      "sep-19_melbourne.txt\n",
      "sep-19_osaka.txt\n",
      "sep-20_cairo.txt\n",
      "sep-20_jakarta.txt\n",
      "sep-20_tokyo.txt\n",
      "sep-21_tokyo.txt\n",
      "sep-22_cairo.txt\n",
      "sep-23_cairo.txt\n",
      "sep-24_cairo.txt\n",
      "sep-24_jakarta.txt\n",
      "sep-24_osaka.txt\n",
      "sep-26_karachi.txt\n",
      "sep-29_jakarta.txt\n",
      "sep-29_osaka.txt\n"
     ]
    }
   ],
   "source": [
    "for files in glob.glob('**/*.txt'):\n",
    "    cleaned_files=files.split(os.path.sep)[1]\n",
    "    print((cleaned_files))"
   ]
  },
  {
   "cell_type": "code",
   "execution_count": 44,
   "id": "8b186a46-f7ff-46d2-91f6-40aa3d254abb",
   "metadata": {},
   "outputs": [
    {
     "name": "stdout",
     "output_type": "stream",
     "text": [
      "None\n",
      "None\n",
      "None\n",
      "None\n",
      "None\n",
      "None\n",
      "None\n",
      "None\n",
      "None\n",
      "None\n",
      "None\n",
      "None\n",
      "None\n",
      "None\n",
      "None\n",
      "None\n"
     ]
    }
   ],
   "source": [
    "for cleanfiles in cleaned_files:\n",
    "    print((rename_my_file(cleanfiles)))"
   ]
  },
  {
   "cell_type": "code",
   "execution_count": 55,
   "id": "d3f4569e-900d-465b-a5ee-96438d5b0428",
   "metadata": {},
   "outputs": [
    {
     "name": "stdout",
     "output_type": "stream",
     "text": [
      "None\n"
     ]
    }
   ],
   "source": [
    "print(rename_my_file(list(cleaned_files)))"
   ]
  },
  {
   "cell_type": "code",
   "execution_count": 56,
   "id": "7ad5bcd2-9562-4221-bfc0-b5d8b107853e",
   "metadata": {},
   "outputs": [
    {
     "ename": "TypeError",
     "evalue": "rename: dst should be string, bytes or os.PathLike, not NoneType",
     "output_type": "error",
     "traceback": [
      "\u001b[1;31m---------------------------------------------------------------------------\u001b[0m",
      "\u001b[1;31mTypeError\u001b[0m                                 Traceback (most recent call last)",
      "Cell \u001b[1;32mIn[56], line 2\u001b[0m\n\u001b[0;32m      1\u001b[0m \u001b[38;5;28;01mfor\u001b[39;00m cleanfiles \u001b[38;5;129;01min\u001b[39;00m cleaned_files:\n\u001b[1;32m----> 2\u001b[0m     \u001b[43mos\u001b[49m\u001b[38;5;241;43m.\u001b[39;49m\u001b[43mrename\u001b[49m\u001b[43m(\u001b[49m\u001b[43mcleanfiles\u001b[49m\u001b[43m,\u001b[49m\u001b[43mrename_my_file\u001b[49m\u001b[43m(\u001b[49m\u001b[43mcleanfiles\u001b[49m\u001b[43m)\u001b[49m\u001b[43m)\u001b[49m\n",
      "\u001b[1;31mTypeError\u001b[0m: rename: dst should be string, bytes or os.PathLike, not NoneType"
     ]
    }
   ],
   "source": [
    "for cleanfiles in cleaned_files:\n",
    "    os.rename(cleanfiles,rename_my_file(cleanfiles))"
   ]
  },
  {
   "cell_type": "code",
   "execution_count": null,
   "id": "141c1115-4e4b-4662-bc77-4427411a48b4",
   "metadata": {},
   "outputs": [],
   "source": []
  }
 ],
 "metadata": {
  "kernelspec": {
   "display_name": "Python 3 (ipykernel)",
   "language": "python",
   "name": "python3"
  },
  "language_info": {
   "codemirror_mode": {
    "name": "ipython",
    "version": 3
   },
   "file_extension": ".py",
   "mimetype": "text/x-python",
   "name": "python",
   "nbconvert_exporter": "python",
   "pygments_lexer": "ipython3",
   "version": "3.12.3"
  },
  "toc": {
   "base_numbering": 1,
   "nav_menu": {},
   "number_sections": true,
   "sideBar": true,
   "skip_h1_title": false,
   "title_cell": "Table of Contents",
   "title_sidebar": "Contents",
   "toc_cell": false,
   "toc_position": {},
   "toc_section_display": true,
   "toc_window_display": false
  },
  "vscode": {
   "interpreter": {
    "hash": "31f2aee4e71d21fbe5cf8b01ff0e069b9275f58929596ceb00d14d90e3e16cd6"
   }
  }
 },
 "nbformat": 4,
 "nbformat_minor": 5
}
